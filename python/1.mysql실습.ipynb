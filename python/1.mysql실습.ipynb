{
 "cells": [
  {
   "cell_type": "code",
   "execution_count": 18,
   "metadata": {},
   "outputs": [],
   "source": [
    "\"\"\"231215\n",
    "    사전 작업\n",
    "    1)csv 파일을 읽어서  mysql 테이블에 insert\n",
    "    2)mysqlclient 패키지를 미리 설치해야 함(cmd창 → pip install mysqlclient)\n",
    "    \"\"\"\n",
    "# 외부기능 모듈 → .py인 파일\n",
    "import csv\n",
    "import MySQLdb\n",
    "\n",
    "input_file = \"c:/data/db/input.csv\"\n",
    "# 자료형 자동\n",
    "\n",
    "# mySQL서버에 접속 → 변수명=값\n",
    "conn = MySQLdb.connect(\n",
    "    host=\"localhost\",\n",
    "    port=3306,\n",
    "    db=\"my_suppliers\",\n",
    "    user=\"user\",\n",
    "    passwd=\"1234\",\n",
    "    charset=\"utf8\",\n",
    ")\n",
    "cursor = conn.cursor()\n",
    "\n",
    "sql = \"delete from suppliers\"  # 레코드 삭제\n",
    "cursor.execute(sql)\n",
    "# 커서   실행\n",
    "conn.commit()"
   ]
  },
  {
   "cell_type": "code",
   "execution_count": 20,
   "metadata": {},
   "outputs": [
    {
     "name": "stdout",
     "output_type": "stream",
     "text": [
      "['A', '001-1001', '2341', '500000', '2014-01-20']\n",
      "['A', '001-1001', '2341', '500000', '2014-01-20']\n",
      "['A', '001-1001', '5467', '750000', '2014-01-20']\n",
      "['A', '001-1001', '5467', '750000', '2014-01-20']\n",
      "['B', '50-9501', '7009', '250000', '2018-01-30']\n",
      "['B', '50-9501', '7009', '250000', '2018-01-30']\n",
      "['B', '50-9505', '6650', '125000', '2017-02-03']\n",
      "['B', '50-9505', '6650', '125000', '2017-02-03']\n",
      "['C', '920-4803', '3321', '615000', '2017-02-03']\n",
      "['C', '920-4804', '3321', '615000', '2017-02-10']\n",
      "['C', '920-4805', '3321', '615000', '2017-02-17']\n",
      "['C', '920-4806', '3321', '615000', '2017-02-24']\n",
      "['A', '001-1001', '2341', '500000.0', '2014-01-20']\n",
      "['A', '001-1001', '2341', '500000.0', '2014-01-20']\n",
      "['A', '001-1001', '5467', '750000.0', '2014-01-20']\n",
      "['A', '001-1001', '5467', '750000.0', '2014-01-20']\n",
      "['B', '50-9501', '7009', '250000.0', '2018-01-30']\n",
      "['B', '50-9501', '7009', '250000.0', '2018-01-30']\n",
      "['B', '50-9505', '6650', '125000.0', '2017-02-03']\n",
      "['B', '50-9505', '6650', '125000.0', '2017-02-03']\n",
      "['C', '920-4803', '3321', '615000.0', '2017-02-03']\n",
      "['C', '920-4804', '3321', '615000.0', '2017-02-10']\n",
      "['C', '920-4805', '3321', '615000.0', '2017-02-17']\n",
      "['C', '920-4806', '3321', '615000.0', '2017-02-24']\n"
     ]
    }
   ],
   "source": [
    "# csv 파일을 로딩(필드 구분자는 쉼표)\n",
    "file_reader = csv.reader(open(input_file, \"r\"), delimiter=\",\")\n",
    "#                    파일오픈 파일명    읽기전용   구분자     → cf. r=read(읽기전용), w=write\n",
    "\n",
    "# 제목행을 읽음\n",
    "header = next(file_reader)\n",
    "#      한 라인 이동\n",
    "for row in file_reader:\n",
    "    #  현재행   파일참조\n",
    "    data = []  # 빈 리스트\n",
    "    if len(row) > 0:\n",
    "        # 자료수\n",
    "        for idx in range(len(header)):  # 블록시작\n",
    "            #          cf.range(5) → 0~4까지 출력\n",
    "            data.append(row[idx])  # 블록종료\n",
    "        print(data)  # 들여쓰기가 끝나면 블록 종료 → 새로운 문장\n",
    "        cursor.execute(\"insert into suppliers values (%s, %s, %s, %s, %s)\", data)\n",
    "        # 커서 → SQL을 실행, 결과탐색                   %: 데이터 위치, s: 스트링\n",
    "conn.commit()\n",
    "\n",
    "\n",
    "cursor.execute(\"select * from suppliers\")\n",
    "rows = cursor.fetchall()\n",
    "# 커서: 테이블을 참조(시작주소를 저장) → fetchall(): 커서가 가리키는 내용을 dump\n",
    "for row in rows:\n",
    "    #  레코드  리스트\n",
    "    output = []\n",
    "    for idx in range(len(row)):\n",
    "        output.append(str(row[idx]))\n",
    "    print(output)"
   ]
  },
  {
   "cell_type": "code",
   "execution_count": 19,
   "metadata": {},
   "outputs": [
    {
     "name": "stdout",
     "output_type": "stream",
     "text": [
      "0\n",
      "1\n",
      "2\n",
      "3\n",
      "4\n",
      "5\n",
      "6\n",
      "7\n",
      "8\n",
      "9\n",
      "10\n"
     ]
    },
    {
     "data": {
      "text/plain": [
       "10"
      ]
     },
     "execution_count": 19,
     "metadata": {},
     "output_type": "execute_result"
    }
   ],
   "source": [
    "for a in range(11):\n",
    "    print(a)\n",
    "    \"\"\"range(10) → 0~9까지 출력\n",
    "    \"\"\"\n",
    "\n",
    "a = [10, 20, 30, 40, 50, 60, 70, 80, 90, 100]\n",
    "len(a)"
   ]
  },
  {
   "cell_type": "code",
   "execution_count": 22,
   "metadata": {},
   "outputs": [
    {
     "name": "stdout",
     "output_type": "stream",
     "text": [
      "(2007, 1, 1, 1, 1232, 1225, 1341, 1340, 'WN', 2891, 'N351', 69, 75, 54, 1, 7, 'SMF', 'ONT', 389, 4, 11, 0, '', '0', 0, 0, 0, 0, 0)\n",
      "(2007, 1, 1, 1, 1918, 1905, 2043, 2035, 'WN', 462, 'N370', 85, 90, 74, 8, 13, 'SMF', 'PDX', 479, 5, 6, 0, '', '0', 0, 0, 0, 0, 0)\n",
      "(2007, 1, 1, 1, 2206, 2130, 2334, 2300, 'WN', 1229, 'N685', 88, 90, 73, 34, 36, 'SMF', 'PDX', 479, 6, 9, 0, '', '0', 3, 0, 0, 0, 31)\n",
      "(2007, 1, 1, 1, 1230, 1200, 1356, 1330, 'WN', 1355, 'N364', 86, 90, 75, 26, 30, 'SMF', 'PDX', 479, 3, 8, 0, '', '0', 23, 0, 0, 0, 3)\n",
      "(2007, 1, 1, 1, 831, 830, 957, 1000, 'WN', 2278, 'N480', 86, 90, 74, -3, 1, 'SMF', 'PDX', 479, 3, 9, 0, '', '0', 0, 0, 0, 0, 0)\n"
     ]
    }
   ],
   "source": [
    "\"\"\"항공운항테이블(python에서 실습)\n",
    "    \"\"\"\n",
    "import MySQLdb\n",
    "\n",
    "conn = MySQLdb.connect(\n",
    "    host=\"localhost\", port=3306, db=\"ontime\", user=\"user\", passwd=\"1234\"\n",
    ")\n",
    "\n",
    "cursor = conn.cursor()\n",
    "cursor.execute(\"select * from ontime limit 5\")\n",
    "rows = cursor.fetchall()  # fetchall() → 커서가 가리키는 내용을 읽음\n",
    "for row in rows:\n",
    "    #  개별 in 리스트\n",
    "    print(row)\n",
    "\n",
    "# 메모리 정리\n",
    "cursor.close()\n",
    "conn.close()"
   ]
  },
  {
   "cell_type": "code",
   "execution_count": 24,
   "metadata": {},
   "outputs": [
    {
     "name": "stdout",
     "output_type": "stream",
     "text": [
      "WN\t10.3474\n",
      "XE\t11.5810\n",
      "YV\t11.8556\n",
      "OH\t12.1304\n",
      "OO\t8.1100\n",
      "UA\t13.5682\n",
      "US\t11.9220\n",
      "DL\t7.7464\n",
      "EV\t19.5908\n",
      "F9\t7.3809\n",
      "FL\t8.9457\n",
      "HA\t-0.8792\n",
      "MQ\t12.6369\n",
      "NW\t8.7584\n",
      "9E\t8.8305\n",
      "AA\t14.3042\n",
      "AQ\t0.4350\n",
      "AS\t10.5621\n",
      "B6\t14.4534\n",
      "CO\t11.6805\n"
     ]
    }
   ],
   "source": [
    "import MySQLdb\n",
    "\n",
    "conn = MySQLdb.connect(\n",
    "    host=\"localhost\", port=3306, db=\"ontime\", user=\"user\", passwd=\"1234\"\n",
    ")\n",
    "cursor = conn.cursor()\n",
    "cursor.execute(\n",
    "    \"\"\"select uniquecarrier, avg(depdelay)\n",
    "               from ontime\n",
    "               group by uniquecarrier\"\"\"\n",
    ")\n",
    "rows = cursor.fetchall()\n",
    "for row in rows:\n",
    "    print(f\"{row[0]}\\t{row[1]}\")\n",
    "\n",
    "cursor.close()\n",
    "conn.close()"
   ]
  },
  {
   "cell_type": "code",
   "execution_count": 27,
   "metadata": {},
   "outputs": [
    {
     "name": "stdout",
     "output_type": "stream",
     "text": [
      "(1, 286334)\n",
      "(2, 284152)\n",
      "(3, 293360)\n",
      "(4, 273055)\n",
      "(5, 275332)\n",
      "(6, 326446)\n",
      "(7, 326559)\n",
      "(8, 317197)\n",
      "(9, 225751)\n",
      "(10, 270098)\n",
      "(11, 242722)\n",
      "(12, 332449)\n",
      "[1, 2, 3, 4, 5, 6, 7, 8, 9, 10, 11, 12]\n",
      "[286334, 284152, 293360, 273055, 275332, 326446, 326559, 317197, 225751, 270098, 242722, 332449]\n"
     ]
    },
    {
     "data": {
      "image/png": "[encoded data removed]",
      "text/plain": [
       "<Figure size 640x480 with 1 Axes>"
      ]
     },
     "metadata": {},
     "output_type": "display_data"
    }
   ],
   "source": [
    "#2007년 도착지연횟수 월별 집계\n",
    "import MySQLdb\n",
    "\n",
    "conn = MySQLdb.connect(\n",
    "    host=\"localhost\", port=3306, db=\"ontime\", user=\"user\", passwd=\"1234\"\n",
    ")\n",
    "cursor=conn.cursor()\n",
    "cursor.execute('''select month, count(*) from ontime \n",
    "               where arrdelay>0\n",
    "               group by month''')   #여러줄 일 때 → 따옴표 3개 사용 (''' ''' or \"\"\" \"\"\")\n",
    "rows = cursor.fetchall()\n",
    "\n",
    "for row in rows:\n",
    "    print(row)\n",
    "\n",
    "cursor.close()\n",
    "conn.close()\n",
    "\n",
    "\n",
    "x=list(range(1,13)) \n",
    "#list() 배열, \n",
    "#range(start, stop, step)\n",
    "\n",
    "y=[]\n",
    "for row in rows:\n",
    "    y.append(row[1])\n",
    "print(x)\n",
    "print(y)\n",
    "\n",
    "\n",
    "import matplotlib.pyplot as plt\n",
    "\n",
    "plt.plot(x,y) #선그래프 출력\n",
    "plt.bar(x,y) #막대그래프 출력\n",
    "plt.show()  //그래프를 출력 "
   ]
  },
  {
   "cell_type": "code",
   "execution_count": null,
   "metadata": {},
   "outputs": [],
   "source": []
  },
  {
   "cell_type": "code",
   "execution_count": null,
   "metadata": {},
   "outputs": [],
   "source": [
    "\n"
   ]
  }
 ],
 "metadata": {
  "kernelspec": {
   "display_name": "Python 3",
   "language": "python",
   "name": "python3"
  },
  "language_info": {
   "codemirror_mode": {
    "name": "ipython",
    "version": 3
   },
   "file_extension": ".py",
   "mimetype": "text/x-python",
   "name": "python",
   "nbconvert_exporter": "python",
   "pygments_lexer": "ipython3",
   "version": "3.12.1"
  }
 },
 "nbformat": 4,
 "nbformat_minor": 2
}
