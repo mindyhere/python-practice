{
 "cells": [
  {
   "cell_type": "code",
   "execution_count": 17,
   "metadata": {},
   "outputs": [],
   "source": [
    "# pip install webdriver_manager\n",
    "from selenium import webdriver\n",
    "from webdriver_manager.chrome import ChromeDriverManager\n",
    "from selenium.webdriver.chrome.service import Service\n",
    "\n",
    "ChromeDriverManager().install()\n",
    "driver = webdriver.Chrome(service=Service(ChromeDriverManager().install()))"
   ]
  },
  {
   "cell_type": "code",
   "execution_count": 18,
   "metadata": {},
   "outputs": [],
   "source": [
    "import time\n",
    "\n",
    "driver.get(\"https://product.kyobobook.co.kr/bestseller/total?period=004\")\n",
    "time.sleep(3)"
   ]
  },
  {
   "cell_type": "code",
   "execution_count": 19,
   "metadata": {},
   "outputs": [],
   "source": [
    "#더보기\n",
    "driver.find_element('xpath','//*[@id=\"contents\"]/div[2]/div/div[1]/button').click()"
   ]
  },
  {
   "cell_type": "code",
   "execution_count": 20,
   "metadata": {},
   "outputs": [],
   "source": [
    "time.sleep(1)\n",
    "#기술/컴퓨터\n",
    "driver.find_element('xpath','//*[@id=\"classificationList\"]/ul/li[25]/button').click()\n",
    "\n",
    "time.sleep(5)"
   ]
  },
  {
   "cell_type": "code",
   "execution_count": 21,
   "metadata": {},
   "outputs": [
    {
     "name": "stdout",
     "output_type": "stream",
     "text": [
      "1\n",
      "2\n",
      "3\n",
      "4\n",
      "5\n",
      "6\n",
      "7\n",
      "8\n",
      "9\n",
      "10\n",
      "1\n",
      "2\n",
      "3\n",
      "4\n",
      "5\n",
      "6\n",
      "7\n",
      "8\n",
      "9\n",
      "10\n"
     ]
    },
    {
     "data": {
      "text/plain": [
       "['진짜 쓰는 실무 엑셀',\n",
       " 'Do it! 점프 투 파이썬',\n",
       " '혼자 공부하는 파이썬',\n",
       " '회사는 엑셀을 가르쳐주지 않아요',\n",
       " '진짜 챗GPT 활용법',\n",
       " '혼자 공부하는 컴퓨터 구조+운영체제',\n",
       " '비전공자를 위한 이해할 수 있는 IT 지식',\n",
       " '침묵의 봄',\n",
       " '혼자 공부하는 머신러닝+딥러닝',\n",
       " 'Clean Code(클린 코드)',\n",
       " '면접을 위한 CS 전공지식 노트',\n",
       " '모던 자바스크립트 Deep Dive',\n",
       " '업무와 일상을 정리하는 새로운 방법 노션(Notion)',\n",
       " '맛있는 디자인 포토샵&일러스트레이터 CC 2023',\n",
       " 'Do it! HTML+CSS+자바스크립트 웹 표준의 정석',\n",
       " '제품의 탄생',\n",
       " '혼자 공부하는 C 언어',\n",
       " '코딩 자율학습 나도코딩의 파이썬 입문',\n",
       " '이것이 취업을 위한 코딩 테스트다 with 파이썬',\n",
       " '가상 면접 사례로 배우는 대규모 시스템 설계 기초']"
      ]
     },
     "execution_count": 21,
     "metadata": {},
     "output_type": "execute_result"
    }
   ],
   "source": [
    "items = []\n",
    "\n",
    "#페이지링크\n",
    "while True:\n",
    "    try:\n",
    "        for j in range(1, 11):\n",
    "            print(j)\n",
    "            book = driver.find_element(\n",
    "                \"xpath\",\n",
    "                f'//*[@id=\"tabRoot\"]/div[3]/ol[1]/li[{j}]/div[2]/div[2]/div[3]/div/div/a',\n",
    "            ).text\n",
    "            time.sleep(1)\n",
    "            items.append(book)\n",
    "        for j in range(1, 11):\n",
    "            print(j)\n",
    "            book = driver.find_element(\n",
    "                \"xpath\",\n",
    "                f'//*[@id=\"tabRoot\"]/div[3]/ol[2]/li[{j}]/div[2]/div[2]/div[3]/div/div/a',\n",
    "            ).text\n",
    "            time.sleep(1)\n",
    "            items.append(book)\n",
    "\n",
    "        #다음페이지 버튼\n",
    "        driver.find_element(\n",
    "            \"xpath\", f'//*[@id=\"tabRoot\"]/div[2]/div[1]/button[2]'\n",
    "        ).click()\n",
    "        time.sleep(5)\n",
    "    except:\n",
    "        break\n",
    "items"
   ]
  },
  {
   "cell_type": "code",
   "execution_count": 30,
   "metadata": {},
   "outputs": [],
   "source": [
    "import pandas as pd\n",
    "\n",
    "df = pd.DataFrame(items)\n",
    "df.columns = [\"제목\"]\n",
    "# df.to_csv('C:/data/data/kyobo-it-best.csv', index=False, encoding='ms949')\n",
    "df.to_csv(\"/data/kyobo-it-best.csv\", index=False, encoding=\"ms949\")"
   ]
  },
  {
   "cell_type": "code",
   "execution_count": 31,
   "metadata": {},
   "outputs": [],
   "source": [
    "# 크롬 브라우저 종료\n",
    "driver.quit()"
   ]
  },
  {
   "cell_type": "code",
   "execution_count": 32,
   "metadata": {},
   "outputs": [
    {
     "name": "stdout",
     "output_type": "stream",
     "text": [
      "['제목\\n', '진짜 쓰는 실무 엑셀\\n', 'Do it! 점프 투 파이썬\\n', '혼자 공부하는 파이썬\\n', '회사는 엑셀을 가르쳐주지 않아요\\n', '진짜 챗GPT 활용법\\n', '혼자 공부하는 컴퓨터 구조+운영체제\\n', '비전공자를 위한 이해할 수 있는 IT 지식\\n', '침묵의 봄\\n', '혼자 공부하는 머신러닝+딥러닝\\n', 'Clean Code(클린 코드)\\n', '면접을 위한 CS 전공지식 노트\\n', '모던 자바스크립트 Deep Dive\\n', '업무와 일상을 정리하는 새로운 방법 노션(Notion)\\n', '맛있는 디자인 포토샵&일러스트레이터 CC 2023\\n', 'Do it! HTML+CSS+자바스크립트 웹 표준의 정석\\n', '제품의 탄생\\n', '혼자 공부하는 C 언어\\n', '코딩 자율학습 나도코딩의 파이썬 입문\\n', '이것이 취업을 위한 코딩 테스트다 with 파이썬\\n', '가상 면접 사례로 배우는 대규모 시스템 설계 기초\\n']\n"
     ]
    }
   ],
   "source": [
    "f=open(\"/data/kyobo-it-best.csv\")\n",
    "lines=f.readlines()\n",
    "print(lines)\n",
    "f.close()"
   ]
  },
  {
   "cell_type": "code",
   "execution_count": 34,
   "metadata": {},
   "outputs": [
    {
     "data": {
      "text/plain": [
       "[['진짜', '실무', '엑셀'],\n",
       " ['점프', '투', '파이썬'],\n",
       " ['공부', '파이썬'],\n",
       " ['회사', '엑셀'],\n",
       " ['진짜', '챗GPT', '활용법'],\n",
       " ['공부', '컴퓨터', '구조+운영체제'],\n",
       " ['비전공자', '이해', '수', '지식'],\n",
       " ['침묵', '봄'],\n",
       " ['공부', '머신러닝+딥러닝'],\n",
       " ['클린', '코드'],\n",
       " ['면접', '전공지식', '노트'],\n",
       " ['모', '자바스크립트'],\n",
       " ['업무', '일상', '정리', '방법', '노션'],\n",
       " ['디자인', '포토샵&일러스트레이터', '2023'],\n",
       " ['HTML+CSS+자바스크립트', '웹', '표준', '정석'],\n",
       " ['제품', '탄생'],\n",
       " ['공부', '언어'],\n",
       " ['코딩', '자율학습', '나도코딩', '파이썬', '입문'],\n",
       " ['이것', '취업', '코딩', '테스트', '파이썬'],\n",
       " ['가상', '면접', '사례', '대규모', '시스템', '설계', '기초']]"
      ]
     },
     "execution_count": 34,
     "metadata": {},
     "output_type": "execute_result"
    }
   ],
   "source": [
    "from multiprocessing.resource_sharer import stop\n",
    "from konlpy.tag import Hannanum\n",
    "\n",
    "han = Hannanum()  # 한나눔 패키지\n",
    "\n",
    "temp = []\n",
    "for i in range(1, len(lines)):\n",
    "    # 명사만 추출\n",
    "    a = lines[i].strip()\n",
    "    temp.append(han.nouns(a))\n",
    "\n",
    "temp"
   ]
  },
  {
   "cell_type": "code",
   "execution_count": 35,
   "metadata": {},
   "outputs": [
    {
     "data": {
      "text/plain": [
       "['진짜',\n",
       " '실무',\n",
       " '엑셀',\n",
       " '점프',\n",
       " '투',\n",
       " '파이썬',\n",
       " '공부',\n",
       " '파이썬',\n",
       " '회사',\n",
       " '엑셀',\n",
       " '진짜',\n",
       " '챗GPT',\n",
       " '활용법',\n",
       " '공부',\n",
       " '컴퓨터',\n",
       " '구조+운영체제',\n",
       " '비전공자',\n",
       " '이해',\n",
       " '수',\n",
       " '지식',\n",
       " '침묵',\n",
       " '봄',\n",
       " '공부',\n",
       " '머신러닝+딥러닝',\n",
       " '클린',\n",
       " '코드',\n",
       " '면접',\n",
       " '전공지식',\n",
       " '노트',\n",
       " '모',\n",
       " '자바스크립트',\n",
       " '업무',\n",
       " '일상',\n",
       " '정리',\n",
       " '방법',\n",
       " '노션',\n",
       " '디자인',\n",
       " '포토샵&일러스트레이터',\n",
       " '2023',\n",
       " 'HTML+CSS+자바스크립트',\n",
       " '웹',\n",
       " '표준',\n",
       " '정석',\n",
       " '제품',\n",
       " '탄생',\n",
       " '공부',\n",
       " '언어',\n",
       " '코딩',\n",
       " '자율학습',\n",
       " '나도코딩',\n",
       " '파이썬',\n",
       " '입문',\n",
       " '이것',\n",
       " '취업',\n",
       " '코딩',\n",
       " '테스트',\n",
       " '파이썬',\n",
       " '가상',\n",
       " '면접',\n",
       " '사례',\n",
       " '대규모',\n",
       " '시스템',\n",
       " '설계',\n",
       " '기초']"
      ]
     },
     "execution_count": 35,
     "metadata": {},
     "output_type": "execute_result"
    }
   ],
   "source": [
    "# 2차원 리스트를 1차원 리스트로 변환하는 함수\n",
    "def flattem(items):\n",
    "    flatList = []\n",
    "    for elem in items:\n",
    "        if type(elem) == list:\n",
    "            for e in elem:\n",
    "                flatList.append(e)\n",
    "        else:\n",
    "            flatList.append(elem)\n",
    "    return flatList\n",
    "\n",
    "\n",
    "word_list = flattem(temp)\n",
    "word_list"
   ]
  },
  {
   "cell_type": "code",
   "execution_count": 36,
   "metadata": {},
   "outputs": [
    {
     "data": {
      "text/plain": [
       "0                  진짜\n",
       "1                  실무\n",
       "2                  엑셀\n",
       "3                  점프\n",
       "4                 파이썬\n",
       "5                  공부\n",
       "6                 파이썬\n",
       "7                  회사\n",
       "8                  엑셀\n",
       "9                  진짜\n",
       "10               챗GPT\n",
       "11                활용법\n",
       "12                 공부\n",
       "13                컴퓨터\n",
       "14            구조+운영체제\n",
       "15               비전공자\n",
       "16                 이해\n",
       "17                 지식\n",
       "18                 침묵\n",
       "19                 공부\n",
       "20           머신러닝+딥러닝\n",
       "21                 클린\n",
       "22                 코드\n",
       "23                 면접\n",
       "24               전공지식\n",
       "25                 노트\n",
       "26             자바스크립트\n",
       "27                 업무\n",
       "28                 일상\n",
       "29                 정리\n",
       "30                 방법\n",
       "31                 노션\n",
       "32                디자인\n",
       "33        포토샵&일러스트레이터\n",
       "34               2023\n",
       "35    HTML+CSS+자바스크립트\n",
       "36                 표준\n",
       "37                 정석\n",
       "38                 제품\n",
       "39                 탄생\n",
       "40                 공부\n",
       "41                 언어\n",
       "42                 코딩\n",
       "43               자율학습\n",
       "44               나도코딩\n",
       "45                파이썬\n",
       "46                 입문\n",
       "47                 이것\n",
       "48                 취업\n",
       "49                 코딩\n",
       "50                테스트\n",
       "51                파이썬\n",
       "52                 가상\n",
       "53                 면접\n",
       "54                 사례\n",
       "55                대규모\n",
       "56                시스템\n",
       "57                 설계\n",
       "58                 기초\n",
       "dtype: object"
      ]
     },
     "execution_count": 36,
     "metadata": {},
     "output_type": "execute_result"
    }
   ],
   "source": [
    "# 두글자 이상인 단어만 추출\n",
    "word_list = pd.Series([x for x in word_list if len(x) > 1])\n",
    "word_list"
   ]
  },
  {
   "cell_type": "code",
   "execution_count": 37,
   "metadata": {},
   "outputs": [
    {
     "data": {
      "text/plain": [
       "0                  진짜\n",
       "1                  실무\n",
       "2                  엑셀\n",
       "3                  점프\n",
       "4                 파이썬\n",
       "5                  공부\n",
       "6                 파이썬\n",
       "7                  회사\n",
       "8                  엑셀\n",
       "9                  진짜\n",
       "10               챗GPT\n",
       "11                활용법\n",
       "12                 공부\n",
       "13                컴퓨터\n",
       "14            구조+운영체제\n",
       "15               비전공자\n",
       "16                 이해\n",
       "17                 지식\n",
       "18                 침묵\n",
       "19                 공부\n",
       "20           머신러닝+딥러닝\n",
       "21                 클린\n",
       "22                 코드\n",
       "23                 면접\n",
       "24               전공지식\n",
       "25                 노트\n",
       "26             자바스크립트\n",
       "27                 업무\n",
       "28                 일상\n",
       "29                 정리\n",
       "30                 방법\n",
       "31                 노션\n",
       "32                디자인\n",
       "33        포토샵&일러스트레이터\n",
       "34    HTML+CSS+자바스크립트\n",
       "35                 표준\n",
       "36                 정석\n",
       "37                 제품\n",
       "38                 탄생\n",
       "39                 공부\n",
       "40                 언어\n",
       "41                 코딩\n",
       "42               자율학습\n",
       "43               나도코딩\n",
       "44                파이썬\n",
       "45                 입문\n",
       "46                 취업\n",
       "47                 코딩\n",
       "48                테스트\n",
       "49                파이썬\n",
       "50                 가상\n",
       "51                 면접\n",
       "52                 사례\n",
       "53                대규모\n",
       "54                시스템\n",
       "55                 설계\n",
       "56                 기초\n",
       "dtype: object"
      ]
     },
     "execution_count": 37,
     "metadata": {},
     "output_type": "execute_result"
    }
   ],
   "source": [
    "# 불용어\n",
    "stopwords = [\"제목\", \"이것\", \"2021\", \"2022\", \"2023\"]\n",
    "word_list = pd.Series([x for x in word_list if x not in stopwords])\n",
    "word_list"
   ]
  },
  {
   "cell_type": "code",
   "execution_count": 38,
   "metadata": {},
   "outputs": [
    {
     "name": "stdout",
     "output_type": "stream",
     "text": [
      "파이썬                4\n",
      "공부                 4\n",
      "진짜                 2\n",
      "엑셀                 2\n",
      "면접                 2\n",
      "코딩                 2\n",
      "자율학습               1\n",
      "포토샵&일러스트레이터        1\n",
      "HTML+CSS+자바스크립트    1\n",
      "표준                 1\n",
      "정석                 1\n",
      "제품                 1\n",
      "탄생                 1\n",
      "언어                 1\n",
      "입문                 1\n",
      "나도코딩               1\n",
      "노션                 1\n",
      "취업                 1\n",
      "테스트                1\n",
      "가상                 1\n",
      "Name: count, dtype: int64\n"
     ]
    }
   ],
   "source": [
    "# 단어별 출현 빈도\n",
    "print(word_list.value_counts().head(20))"
   ]
  },
  {
   "cell_type": "code",
   "execution_count": 39,
   "metadata": {},
   "outputs": [
    {
     "name": "stdout",
     "output_type": "stream",
     "text": [
      "파이썬-4\n",
      "공부-4\n",
      "진짜-2\n",
      "엑셀-2\n",
      "면접-2\n",
      "코딩-2\n",
      "\n"
     ]
    }
   ],
   "source": [
    "a = word_list.value_counts().head(20)\n",
    "b = a.index\n",
    "c = a.values\n",
    "result = \"\"\n",
    "for item in list(zip(b, c)):\n",
    "    if item[1] >= 2:\n",
    "        result += item[0] + \"-\" + str(item[1]) + \"\\n\"\n",
    "print(result)"
   ]
  }
 ],
 "metadata": {
  "kernelspec": {
   "display_name": "Python 3",
   "language": "python",
   "name": "python3"
  },
  "language_info": {
   "codemirror_mode": {
    "name": "ipython",
    "version": 3
   },
   "file_extension": ".py",
   "mimetype": "text/x-python",
   "name": "python",
   "nbconvert_exporter": "python",
   "pygments_lexer": "ipython3",
   "version": "3.12.1"
  }
 },
 "nbformat": 4,
 "nbformat_minor": 2
}
