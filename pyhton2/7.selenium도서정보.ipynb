{
 "cells": [
  {
   "cell_type": "code",
   "execution_count": 15,
   "metadata": {},
   "outputs": [],
   "source": [
    "from selenium import webdriver\n",
    "from webdriver_manager.chrome import ChromeDriverManager\n",
    "from selenium.webdriver.chrome.service import Service\n",
    "\n",
    "ChromeDriverManager().install()\n",
    "driver = webdriver.Chrome(service=Service(ChromeDriverManager().install()))"
   ]
  },
  {
   "cell_type": "code",
   "execution_count": 16,
   "metadata": {},
   "outputs": [],
   "source": [
    "import time\n",
    "from selenium.webdriver.common.keys import Keys\n",
    "\n",
    "driver.get(\"https://www.kyobobook.co.kr/\")\n",
    "# driver.get(\"https://shopping.naver.com/home\")\n",
    "time.sleep(1)\n",
    "\n",
    "# keyword = \"자바\"\n",
    "# keyword = \"파이썬\"\n",
    "keyword = \"초콜릿\"\n",
    "driver.find_element('xpath','//*[@id=\"searchKeyword\"]').send_keys(keyword)\n",
    "driver.find_element('xpath','//*[@id=\"searchKeyword\"]').send_keys(Keys.RETURN)\n",
    "# driver.find_element(\"xpath\", '//*[@id=\"gnb-gnb\"]').send_keys(keyword)\n",
    "# driver.find_element(\"xpath\", '//*[@id=\"gnb-gnb\"]').send_keys(Keys.RETURN)"
   ]
  },
  {
   "cell_type": "code",
   "execution_count": 17,
   "metadata": {},
   "outputs": [
    {
     "data": {
      "text/plain": [
       "['[국내도서] Chocolate(초콜릿)',\n",
       " '[국내도서] 초콜릿 한 조각에 담긴 세상',\n",
       " '[국내도서] 초콜릿 클래스',\n",
       " '[국내도서] 정영택의 리얼 초콜릿 가이드',\n",
       " '[국내도서] 찰리와 초콜릿 공장',\n",
       " '[국내도서] 매거진 F(Magazine F) No.6: 초콜릿(Chocolate)(한글판)',\n",
       " '[국내도서] CHARLIE AND THE CHOCOLATE FACTORY(찰리와 초콜릿 공장)',\n",
       " '[기프트] 일본1위 초코바 과자 빅썬더 초콜릿 바 유라쿠 36g',\n",
       " '[국내도서] 달콤 쌉싸름한 초콜릿',\n",
       " '[국내도서] 나는 초콜릿의 달콤함을 모릅니다',\n",
       " '[기프트] 모닝글로리 초콜릿 연필세트 B 12자루입',\n",
       " '[국내도서] 전설의 초콜릿',\n",
       " '[국내도서] 초콜릿 마스터클래스',\n",
       " '[국내도서] 카카오에서 초콜릿까지',\n",
       " '[국내도서] 호러 방송국: 초콜릿 살인 사건',\n",
       " '[국내도서] 스위트 초콜릿',\n",
       " '[국내도서] 바퀴 달린 강아지와 초콜릿 상자',\n",
       " '[국내도서] 미다스의 초콜릿',\n",
       " '[국내도서] 수상한 초콜릿 가게',\n",
       " '[국내도서] 내가 만드는 초콜릿 디저트 요리왕']"
      ]
     },
     "execution_count": 17,
     "metadata": {},
     "output_type": "execute_result"
    }
   ],
   "source": [
    "# 도서명\n",
    "titles = []\n",
    "for i in range(1, 21):\n",
    "    title = driver.find_element(\n",
    "        \"xpath\",\n",
    "        f'//*[@id=\"shopData_list\"]/ul/li[{i}]/div[1]/div[2]/div[2]/div[1]/div/a',\n",
    "    ).text\n",
    "    titles.append(title)\n",
    "\n",
    "titles"
   ]
  }
 ],
 "metadata": {
  "kernelspec": {
   "display_name": "Python 3",
   "language": "python",
   "name": "python3"
  },
  "language_info": {
   "codemirror_mode": {
    "name": "ipython",
    "version": 3
   },
   "file_extension": ".py",
   "mimetype": "text/x-python",
   "name": "python",
   "nbconvert_exporter": "python",
   "pygments_lexer": "ipython3",
   "version": "3.12.1"
  }
 },
 "nbformat": 4,
 "nbformat_minor": 2
}
