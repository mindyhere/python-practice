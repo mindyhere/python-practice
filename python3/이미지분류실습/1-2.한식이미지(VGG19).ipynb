{
 "cells": [
  {
   "cell_type": "code",
   "execution_count": null,
   "metadata": {},
   "outputs": [],
   "source": [
    "import tensorflow as tf\n",
    "\n",
    "gpus = tf.config.experimental.list_physical_devices(\"GPU\")\n",
    "print(gpus)\n",
    "if gpus:\n",
    "    try:\n",
    "        for gpu in gpus:\n",
    "            tf.config.experimental.set_memory_growth(gpu, True)\n",
    "    except RuntimeError as e:\n",
    "        print(e)"
   ]
  },
  {
   "cell_type": "code",
   "execution_count": null,
   "metadata": {},
   "outputs": [],
   "source": [
    "pip install glob2\n",
    "import glob\n",
    "glob.glob('c:\\\\data\\\\foods\\\\**\\\\*.jpg', recursive=True)"
   ]
  },
  {
   "cell_type": "code",
   "execution_count": null,
   "metadata": {},
   "outputs": [],
   "source": [
    "import glob\n",
    "from PIL import Image\n",
    "import glob\n",
    "\n",
    "all_images = []\n",
    "all_labels = []\n",
    "img_size = (96, 96)\n",
    "for f in glob.glob(\"c:\\\\data\\\\foods\\\\**\\\\*.jpg\", recursive=True):\n",
    "    arr = split(\"\\\\\")\n",
    "    print(arr)\n",
    "    img = Image.open(f)\n",
    "    img_resize.append(img_resize)\n",
    "    label = 0\n",
    "    print(arr)\n",
    "    if arr[4] == \"Chicken\":\n",
    "        label = 0\n",
    "    elif arr[4] == \"Dolsot\":\n",
    "        label = 1\n",
    "    elif arr[4] == \"Jeyug\":\n",
    "        label = 2\n",
    "    elif arr[4] == \"Kimchi\":\n",
    "        label = 3\n",
    "    elif arr[4] == \"Samgyeb\":\n",
    "        label = 4\n",
    "    elif arr[4] == \"Soybean\":\n",
    "        label = 5\n",
    "    print(label)\n",
    "    all_labels.append(label)"
   ]
  },
  {
   "cell_type": "code",
   "execution_count": null,
   "metadata": {},
   "outputs": [],
   "source": [
    "import numpy as np\n",
    "\n",
    "X = np.empty((1, img_size[0], img_size[1], 3))\n",
    "for img in all_images:\n",
    "    X = np.vstack((X, np.array(img).reshape(1, img_size[0], img_size[1], 3)))\n",
    "X.shape"
   ]
  },
  {
   "cell_type": "code",
   "execution_count": null,
   "metadata": {},
   "outputs": [],
   "source": [
    "X[0].shape"
   ]
  },
  {
   "cell_type": "code",
   "execution_count": null,
   "metadata": {},
   "outputs": [],
   "source": [
    "X = np.delete(X, (0), axis=0)"
   ]
  },
  {
   "cell_type": "code",
   "execution_count": null,
   "metadata": {},
   "outputs": [],
   "source": [
    "X.shape"
   ]
  },
  {
   "cell_type": "code",
   "execution_count": null,
   "metadata": {},
   "outputs": [],
   "source": [
    "y = np.array(all_labels)\n",
    "y"
   ]
  },
  {
   "cell_type": "code",
   "execution_count": null,
   "metadata": {},
   "outputs": [],
   "source": [
    "import matplotlib.pyplot as plt\n",
    "\n",
    "plt.imshow(all_images[0])\n",
    "plt.show()"
   ]
  },
  {
   "cell_type": "code",
   "execution_count": null,
   "metadata": {},
   "outputs": [],
   "source": [
    "from sklearn.model_selection import train_test_split\n",
    "\n",
    "# X_train, X_test, y_train, y_test = train_test_split(X, y, test_size=0.2, stratify=y, shuffle=True,  random_state=0)\n",
    "\n",
    "X_train, X_test, y_train, y_test = train_test_split(\n",
    "    X, y, test_size=0.2, random_state=10\n",
    ")\n",
    "\n",
    "X_train.shape, X_test.shape, y_train.shape, y_test.shape"
   ]
  },
  {
   "cell_type": "code",
   "execution_count": null,
   "metadata": {},
   "outputs": [],
   "source": [
    "import pandas as pd\n",
    "\n",
    "pd.DataFrame(y_train).value_counts()"
   ]
  },
  {
   "cell_type": "code",
   "execution_count": null,
   "metadata": {},
   "outputs": [],
   "source": [
    "X_train = X_train.reshape(-1, img_size[0] * img_size[1] * 3)\n",
    "X_test = X_test.reshape(-1, img_size[0] * img_size[1] * 3)"
   ]
  },
  {
   "cell_type": "code",
   "execution_count": null,
   "metadata": {},
   "outputs": [],
   "source": [
    "X_train = X_train / 255.0\n",
    "X_test = X_test / 255.0"
   ]
  },
  {
   "cell_type": "code",
   "execution_count": null,
   "metadata": {},
   "outputs": [],
   "source": [
    "X_train[0]"
   ]
  },
  {
   "cell_type": "code",
   "execution_count": null,
   "metadata": {},
   "outputs": [],
   "source": [
    "from tensorflow.keras import utils\n",
    "\n",
    "y_train_backup = y_train\n",
    "\n",
    "y_test_backup = y_test\n",
    "\n",
    "y_train = utils.to_categorical(y_train, 6)\n",
    "\n",
    "y_test = utils.to_categorical(y_test, 6)"
   ]
  },
  {
   "cell_type": "code",
   "execution_count": null,
   "metadata": {},
   "outputs": [],
   "source": [
    "y_train[:5]"
   ]
  },
  {
   "cell_type": "code",
   "execution_count": null,
   "metadata": {},
   "outputs": [],
   "source": [
    "from tensorflow.keras.applications.vgg19 import VGG19\n",
    "\n",
    "# VGG19 모델\n",
    "\n",
    "# 1. 전이학습\n",
    "\n",
    "base_model = VGG19(\n",
    "    weights=\"imagenet\",\n",
    "    input_shape=(96, 96, 3),\n",
    "    include_top=False,\n",
    ")\n",
    "\n",
    "model = VGG19(input_shape=(96, 96, 3), include_top=False, weights=\"imagenet\")\n",
    "\n",
    "model.trainable = False\n",
    "\n",
    "t_model = tf.keras.models.Sequential(\n",
    "    [\n",
    "        model,\n",
    "        tf.keras.layers.GlobalAveragePooling2D(),\n",
    "        tf.keras.layers.Dense(128, activation=\"relu\"),\n",
    "        tf.keras.layers.Dense(6, activation=\"softmax\"),\n",
    "    ]\n",
    ")\n",
    "\n",
    "t_model.compile(\n",
    "    optimizer=tf.keras.optimizers.Adam(lr=0.001),\n",
    "    loss=\"categorical_crossentropy\",\n",
    "    metrics=\"accuracy\",\n",
    ")\n",
    "\n",
    "t_model.summary()"
   ]
  },
  {
   "cell_type": "code",
   "execution_count": null,
   "metadata": {},
   "outputs": [],
   "source": [
    "# 2. Fine-Tuning\n",
    "\n",
    "t_model.trainable = True\n",
    "\n",
    "t_model.compile(\n",
    "    optimizer=tf.keras.optimizers.Adam(lr=0.0001),\n",
    "    loss=\"categorical_crossentropy\",\n",
    "    metrics=\"accuracy\",\n",
    ")\n",
    "\n",
    "t_model.summary()"
   ]
  },
  {
   "cell_type": "code",
   "execution_count": null,
   "metadata": {},
   "outputs": [],
   "source": [
    "from keras.callbacks import ModelCheckpoint\n",
    "\n",
    "checkpoint = ModelCheckpoint(\n",
    "    \"d:/data/models/food_best2.h5\",\n",
    "    monitor=\"val_accuracy\",\n",
    "    verbose=1,\n",
    "    save_best_only=True,\n",
    "    mode=\"max\",\n",
    ")\n",
    "\n",
    "hist = t_model.fit(\n",
    "    X_train,\n",
    "    y_train,\n",
    "    batch_size=32,\n",
    "    validation_split=0.2,\n",
    "    epochs=30,\n",
    "    callbacks=[checkpoint],\n",
    ")"
   ]
  },
  {
   "cell_type": "code",
   "execution_count": null,
   "metadata": {},
   "outputs": [],
   "source": [
    "plt.figure(figsize=(12, 8))\n",
    "\n",
    "plt.plot(hist.history[\"loss\"])\n",
    "\n",
    "plt.plot(hist.history[\"val_loss\"])\n",
    "\n",
    "plt.legend([\"loss\", \"val_loss\"])\n",
    "\n",
    "plt.grid()\n",
    "\n",
    "plt.show()"
   ]
  },
  {
   "cell_type": "code",
   "execution_count": null,
   "metadata": {},
   "outputs": [],
   "source": [
    "plt.figure(figsize=(12, 8))\n",
    "\n",
    "plt.plot(hist.history[\"accuracy\"])\n",
    "\n",
    "plt.plot(hist.history[\"val_accuracy\"])\n",
    "\n",
    "plt.legend([\"accuracy\", \"val_accuracy\"])\n",
    "\n",
    "plt.grid()\n",
    "\n",
    "plt.show()"
   ]
  },
  {
   "cell_type": "code",
   "execution_count": null,
   "metadata": {},
   "outputs": [],
   "source": [
    "from tensorflow.keras.models import load_model\n",
    "\n",
    "model = load_model(\"d:/data/models/food_best2.h5\")\n",
    "\n",
    "scores = model.evaluate(X_train, y_train, verbose=1)\n",
    "\n",
    "print(scores)\n",
    "\n",
    "print(\"%s: %.2f%%\" % (model.metrics_names[1], scores[1] * 100))  # 학습용"
   ]
  },
  {
   "cell_type": "code",
   "execution_count": null,
   "metadata": {},
   "outputs": [],
   "source": [
    "scores = model.evaluate(X_test, y_test, verbose=1)\n",
    "\n",
    "print(scores)\n",
    "\n",
    "print(\"%s: %.2f%%\" % (model.metrics_names[1], scores[1] * 100))  # 검증용\n",
    "\n",
    "# cnn 60%\n",
    "\n",
    "# transfer learning 69%\n",
    "\n",
    "# fine tuning 85%"
   ]
  },
  {
   "cell_type": "code",
   "execution_count": null,
   "metadata": {},
   "outputs": [],
   "source": [
    "pred = model.predict(X_test)\n",
    "\n",
    "print(pred)\n",
    "\n",
    "print(np.argmax(pred, axis=1))"
   ]
  },
  {
   "cell_type": "code",
   "execution_count": null,
   "metadata": {},
   "outputs": [],
   "source": [
    "from sklearn.metrics import classification_report\n",
    "\n",
    "print(classification_report(y_test_backup, np.argmax(pred, axis=1)))"
   ]
  }
 ],
 "metadata": {
  "language_info": {
   "name": "python"
  }
 },
 "nbformat": 4,
 "nbformat_minor": 2
}
