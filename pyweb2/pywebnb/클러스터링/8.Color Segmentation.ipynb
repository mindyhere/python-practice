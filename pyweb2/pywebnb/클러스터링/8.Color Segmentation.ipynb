{
 "cells": [
  {
   "cell_type": "code",
   "execution_count": null,
   "metadata": {},
   "outputs": [],
   "source": [
    "from matplotlib.image import imread\n",
    "\n",
    "image_source = imread(\"c:/data/images/ladybug.png\")\n",
    "image_source.shape"
   ]
  },
  {
   "cell_type": "code",
   "execution_count": null,
   "metadata": {},
   "outputs": [],
   "source": [
    "import matplotlib.pyplot as plt\n",
    "\n",
    "plt.imshow(image_source)\n",
    "plt.xticks(())\n",
    "plt.yticks(())\n",
    "plt.show()"
   ]
  },
  {
   "cell_type": "code",
   "execution_count": null,
   "metadata": {},
   "outputs": [],
   "source": [
    "from sklearn.cluster import KMeans\n",
    "\n",
    "X = image_source.reshape(-1, 3)  # (533, 800, 3) => (-1, 3) color 기준으로 reshape\n",
    "images = []\n",
    "\n",
    "for k in range(2, 9):\n",
    "    kmeans = KMeans(n_clusters=k, random_state=10, n_init=\"auto\").fit(X)\n",
    "    img = kmeans.cluster_centers_[kmeans.labels_]\n",
    "    img = img.reshape(image_source.shape)\n",
    "    images.append(img)"
   ]
  },
  {
   "cell_type": "code",
   "execution_count": null,
   "metadata": {},
   "outputs": [],
   "source": [
    "import cv2\n",
    "\n",
    "plt.figure(figsize=(20, 7))\n",
    "\n",
    "for idx, img in enumerate(images):\n",
    "    plt.subplot(2, 4, idx + 1)\n",
    "    image = cv2.cvtColor(img, cv2.COLOR_BGR2RGB)\n",
    "    plt.imshow(img)\n",
    "    plt.title(f\"k={idx+2}\")\n",
    "    plt.axis(\"off\")\n",
    "\n",
    "plt.subplot(2, 4, 8)\n",
    "plt.imshow(image_source)\n",
    "plt.title(\"original image\")\n",
    "plt.axis(\"off\")\n",
    "\n",
    "plt.show()\n",
    "# k값이 증가할수록 더 많은 color를 사용하게 됨"
   ]
  }
 ],
 "metadata": {
  "language_info": {
   "name": "python"
  }
 },
 "nbformat": 4,
 "nbformat_minor": 2
}
