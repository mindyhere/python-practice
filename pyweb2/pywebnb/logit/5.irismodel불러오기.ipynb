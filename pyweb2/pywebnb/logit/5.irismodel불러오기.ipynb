{
 "cells": [
  {
   "cell_type": "code",
   "execution_count": 6,
   "metadata": {},
   "outputs": [
    {
     "name": "stdout",
     "output_type": "stream",
     "text": [
      "품종:  versicolor\n",
      "품종:  setosa\n"
     ]
    },
    {
     "name": "stderr",
     "output_type": "stream",
     "text": [
      "c:\\python312\\Lib\\site-packages\\sklearn\\base.py:493: UserWarning: X does not have valid feature names, but LogisticRegression was fitted with feature names\n",
      "  warnings.warn(\n",
      "c:\\python312\\Lib\\site-packages\\sklearn\\base.py:493: UserWarning: X does not have valid feature names, but LogisticRegression was fitted with feature names\n",
      "  warnings.warn(\n"
     ]
    }
   ],
   "source": [
    "import joblib\n",
    "\n",
    "model = joblib.load(\"c:/data/iris/iris_logit.model\")\n",
    "\n",
    "flowers = [\"setosa\", \"versicolor\", \"virginica\"]\n",
    "X_new = [[7, 3.0, 5, 1.4]]\n",
    "pred = model.predict(X_new)\n",
    "print(\"품종: \", flowers[pred[0]])\n",
    "\n",
    "X_new = [[5, 2.9, 1, 0.2]]\n",
    "pred = model.predict(X_new)\n",
    "print(\"품종: \", flowers[pred[0]])"
   ]
  }
 ],
 "metadata": {
  "kernelspec": {
   "display_name": "Python 3",
   "language": "python",
   "name": "python3"
  },
  "language_info": {
   "codemirror_mode": {
    "name": "ipython",
    "version": 3
   },
   "file_extension": ".py",
   "mimetype": "text/x-python",
   "name": "python",
   "nbconvert_exporter": "python",
   "pygments_lexer": "ipython3",
   "version": "3.12.1"
  }
 },
 "nbformat": 4,
 "nbformat_minor": 2
}
