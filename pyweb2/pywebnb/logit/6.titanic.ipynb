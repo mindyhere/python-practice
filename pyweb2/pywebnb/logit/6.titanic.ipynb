{
 "cells": [
  {
   "cell_type": "code",
   "execution_count": 34,
   "metadata": {},
   "outputs": [
    {
     "data": {
      "text/html": [
       "<div>\n",
       "<style scoped>\n",
       "    .dataframe tbody tr th:only-of-type {\n",
       "        vertical-align: middle;\n",
       "    }\n",
       "\n",
       "    .dataframe tbody tr th {\n",
       "        vertical-align: top;\n",
       "    }\n",
       "\n",
       "    .dataframe thead th {\n",
       "        text-align: right;\n",
       "    }\n",
       "</style>\n",
       "<table border=\"1\" class=\"dataframe\">\n",
       "  <thead>\n",
       "    <tr style=\"text-align: right;\">\n",
       "      <th></th>\n",
       "      <th>Survived</th>\n",
       "      <th>Pclass1</th>\n",
       "      <th>Pclass2</th>\n",
       "      <th>Pclass3</th>\n",
       "      <th>male</th>\n",
       "      <th>female</th>\n",
       "      <th>Age</th>\n",
       "      <th>SibSp</th>\n",
       "      <th>Parch</th>\n",
       "      <th>Fare</th>\n",
       "    </tr>\n",
       "  </thead>\n",
       "  <tbody>\n",
       "    <tr>\n",
       "      <th>0</th>\n",
       "      <td>0</td>\n",
       "      <td>0</td>\n",
       "      <td>0</td>\n",
       "      <td>1</td>\n",
       "      <td>1</td>\n",
       "      <td>0</td>\n",
       "      <td>22.0</td>\n",
       "      <td>1</td>\n",
       "      <td>0</td>\n",
       "      <td>7.2500</td>\n",
       "    </tr>\n",
       "    <tr>\n",
       "      <th>1</th>\n",
       "      <td>1</td>\n",
       "      <td>1</td>\n",
       "      <td>0</td>\n",
       "      <td>0</td>\n",
       "      <td>0</td>\n",
       "      <td>1</td>\n",
       "      <td>38.0</td>\n",
       "      <td>1</td>\n",
       "      <td>0</td>\n",
       "      <td>71.2833</td>\n",
       "    </tr>\n",
       "    <tr>\n",
       "      <th>2</th>\n",
       "      <td>1</td>\n",
       "      <td>0</td>\n",
       "      <td>0</td>\n",
       "      <td>1</td>\n",
       "      <td>0</td>\n",
       "      <td>1</td>\n",
       "      <td>26.0</td>\n",
       "      <td>0</td>\n",
       "      <td>0</td>\n",
       "      <td>7.9250</td>\n",
       "    </tr>\n",
       "    <tr>\n",
       "      <th>3</th>\n",
       "      <td>1</td>\n",
       "      <td>1</td>\n",
       "      <td>0</td>\n",
       "      <td>0</td>\n",
       "      <td>0</td>\n",
       "      <td>1</td>\n",
       "      <td>35.0</td>\n",
       "      <td>1</td>\n",
       "      <td>0</td>\n",
       "      <td>53.1000</td>\n",
       "    </tr>\n",
       "    <tr>\n",
       "      <th>4</th>\n",
       "      <td>0</td>\n",
       "      <td>0</td>\n",
       "      <td>0</td>\n",
       "      <td>1</td>\n",
       "      <td>1</td>\n",
       "      <td>0</td>\n",
       "      <td>35.0</td>\n",
       "      <td>0</td>\n",
       "      <td>0</td>\n",
       "      <td>8.0500</td>\n",
       "    </tr>\n",
       "  </tbody>\n",
       "</table>\n",
       "</div>"
      ],
      "text/plain": [
       "   Survived  Pclass1  Pclass2  Pclass3  male  female   Age  SibSp  Parch  \\\n",
       "0         0        0        0        1     1       0  22.0      1      0   \n",
       "1         1        1        0        0     0       1  38.0      1      0   \n",
       "2         1        0        0        1     0       1  26.0      0      0   \n",
       "3         1        1        0        0     0       1  35.0      1      0   \n",
       "4         0        0        0        1     1       0  35.0      0      0   \n",
       "\n",
       "      Fare  \n",
       "0   7.2500  \n",
       "1  71.2833  \n",
       "2   7.9250  \n",
       "3  53.1000  \n",
       "4   8.0500  "
      ]
     },
     "execution_count": 34,
     "metadata": {},
     "output_type": "execute_result"
    }
   ],
   "source": [
    "# 로지스틱 회귀분석 예제 : # 성별(Sex), 나이(Age), 객실등급(Pclass), 요금(Fare)이 생존에 어느 정도의 영향을 미쳤는가?\n",
    "\n",
    "import pandas as pd\n",
    "\n",
    "df = pd.read_csv(\"c:/data/titanic/train3.csv\")\n",
    "df.head()"
   ]
  },
  {
   "cell_type": "code",
   "execution_count": 49,
   "metadata": {},
   "outputs": [
    {
     "data": {
      "text/plain": [
       "Survived\n",
       "0    549\n",
       "1    342\n",
       "Name: count, dtype: int64"
      ]
     },
     "execution_count": 49,
     "metadata": {},
     "output_type": "execute_result"
    }
   ],
   "source": [
    "df.Survived.value_counts()"
   ]
  },
  {
   "cell_type": "code",
   "execution_count": 35,
   "metadata": {},
   "outputs": [
    {
     "data": {
      "text/html": [
       "<div>\n",
       "<style scoped>\n",
       "    .dataframe tbody tr th:only-of-type {\n",
       "        vertical-align: middle;\n",
       "    }\n",
       "\n",
       "    .dataframe tbody tr th {\n",
       "        vertical-align: top;\n",
       "    }\n",
       "\n",
       "    .dataframe thead th {\n",
       "        text-align: right;\n",
       "    }\n",
       "</style>\n",
       "<table border=\"1\" class=\"dataframe\">\n",
       "  <thead>\n",
       "    <tr style=\"text-align: right;\">\n",
       "      <th></th>\n",
       "      <th>Pclass1</th>\n",
       "      <th>Pclass2</th>\n",
       "      <th>Pclass3</th>\n",
       "      <th>male</th>\n",
       "      <th>female</th>\n",
       "      <th>Age</th>\n",
       "      <th>SibSp</th>\n",
       "      <th>Parch</th>\n",
       "      <th>Fare</th>\n",
       "    </tr>\n",
       "    <tr>\n",
       "      <th>Survived</th>\n",
       "      <th></th>\n",
       "      <th></th>\n",
       "      <th></th>\n",
       "      <th></th>\n",
       "      <th></th>\n",
       "      <th></th>\n",
       "      <th></th>\n",
       "      <th></th>\n",
       "      <th></th>\n",
       "    </tr>\n",
       "  </thead>\n",
       "  <tbody>\n",
       "    <tr>\n",
       "      <th>0</th>\n",
       "      <td>0.145719</td>\n",
       "      <td>0.176685</td>\n",
       "      <td>0.677596</td>\n",
       "      <td>0.852459</td>\n",
       "      <td>0.147541</td>\n",
       "      <td>30.483607</td>\n",
       "      <td>0.553734</td>\n",
       "      <td>0.329690</td>\n",
       "      <td>22.117887</td>\n",
       "    </tr>\n",
       "    <tr>\n",
       "      <th>1</th>\n",
       "      <td>0.397661</td>\n",
       "      <td>0.254386</td>\n",
       "      <td>0.347953</td>\n",
       "      <td>0.318713</td>\n",
       "      <td>0.681287</td>\n",
       "      <td>28.595526</td>\n",
       "      <td>0.473684</td>\n",
       "      <td>0.464912</td>\n",
       "      <td>48.395408</td>\n",
       "    </tr>\n",
       "  </tbody>\n",
       "</table>\n",
       "</div>"
      ],
      "text/plain": [
       "           Pclass1   Pclass2   Pclass3      male    female        Age  \\\n",
       "Survived                                                                \n",
       "0         0.145719  0.176685  0.677596  0.852459  0.147541  30.483607   \n",
       "1         0.397661  0.254386  0.347953  0.318713  0.681287  28.595526   \n",
       "\n",
       "             SibSp     Parch       Fare  \n",
       "Survived                                 \n",
       "0         0.553734  0.329690  22.117887  \n",
       "1         0.473684  0.464912  48.395408  "
      ]
     },
     "execution_count": 35,
     "metadata": {},
     "output_type": "execute_result"
    }
   ],
   "source": [
    "# 생존여부를 기준으로 한 평균값들\n",
    "df.groupby(\"Survived\").mean()"
   ]
  },
  {
   "cell_type": "code",
   "execution_count": 36,
   "metadata": {},
   "outputs": [
    {
     "data": {
      "text/plain": [
       "Text(0, 0.5, 'frequency')"
      ]
     },
     "execution_count": 36,
     "metadata": {},
     "output_type": "execute_result"
    },
    {
     "data": {
      "image/png": "[encoded data removed]",
      "text/plain": [
       "<Figure size 640x480 with 1 Axes>"
      ]
     },
     "metadata": {},
     "output_type": "display_data"
    }
   ],
   "source": [
    "import matplotlib.pyplot as plt\n",
    "%matplotlib inline\n",
    "\n",
    "df[\"Age\"].hist()\n",
    "plt.xlabel('Age')\n",
    "plt.ylabel('frequency')"
   ]
  },
  {
   "cell_type": "code",
   "execution_count": 37,
   "metadata": {},
   "outputs": [
    {
     "data": {
      "text/plain": [
       "Text(0, 0.5, 'frequency')"
      ]
     },
     "execution_count": 37,
     "metadata": {},
     "output_type": "execute_result"
    },
    {
     "data": {
      "image/png": "[encoded data removed]",
      "text/plain": [
       "<Figure size 640x480 with 1 Axes>"
      ]
     },
     "metadata": {},
     "output_type": "display_data"
    }
   ],
   "source": [
    "import matplotlib.pyplot as plt\n",
    "%matplotlib inline\n",
    "\n",
    "df['Fare'].hist()\n",
    "plt.xlabel('Fare')\n",
    "plt.ylabel('frequency')"
   ]
  },
  {
   "cell_type": "code",
   "execution_count": 38,
   "metadata": {},
   "outputs": [
    {
     "name": "stderr",
     "output_type": "stream",
     "text": [
      "C:\\Users\\user\\AppData\\Local\\Temp\\ipykernel_8552\\1343853874.py:6: FutureWarning: \n",
      "\n",
      "Passing `palette` without assigning `hue` is deprecated and will be removed in v0.14.0. Assign the `x` variable to `hue` and set `legend=False` for the same effect.\n",
      "\n",
      "  sns.countplot(x=\"Survived\", data=df, palette=colors)\n"
     ]
    },
    {
     "data": {
      "text/plain": [
       "Text(0.5, 1.0, 'classified\\n (0:dead, 1:survive)')"
      ]
     },
     "execution_count": 38,
     "metadata": {},
     "output_type": "execute_result"
    },
    {
     "data": {
      "image/png": "[encoded data removed]",
      "text/plain": [
       "<Figure size 640x480 with 1 Axes>"
      ]
     },
     "metadata": {},
     "output_type": "display_data"
    }
   ],
   "source": [
    "import seaborn as sns\n",
    "import matplotlib.pyplot as plt\n",
    "\n",
    "colors = [\"yellow\", \"red\"]\n",
    "\n",
    "sns.countplot(x=\"Survived\", data=df, palette=colors)\n",
    "plt.title(\"classified\\n (0:dead, 1:survive)\", fontsize=14)\n",
    "# 불균형 데이터셋"
   ]
  },
  {
   "cell_type": "code",
   "execution_count": 39,
   "metadata": {},
   "outputs": [
    {
     "name": "stdout",
     "output_type": "stream",
     "text": [
      "<class 'pandas.core.frame.DataFrame'> <class 'pandas.core.series.Series'>\n"
     ]
    }
   ],
   "source": [
    "train_cols = df.columns[1:]\n",
    "\n",
    "X = df[train_cols]  # 독립변수\n",
    "y = df[\"Survived\"]\n",
    "\n",
    "print(type(X), type(y))"
   ]
  },
  {
   "cell_type": "code",
   "execution_count": 16,
   "metadata": {},
   "outputs": [],
   "source": [
    "# 언더샘플링\n",
    "\n",
    "from imblearn.under_sampling import RandomUnderSampler\n",
    "\n",
    "X_sample, y_sample = RandomUnderSampler(random_state=0).fit_resample(X, y)\n",
    "\n",
    "X_samp = pd.DataFrame(data=X_sample, columns=train_cols)\n",
    "y_samp = pd.DataFrame(data=y_sample, columns=[\"Survived\"])\n",
    "df2 = pd.concat([X_samp, y_samp], axis=1)"
   ]
  },
  {
   "cell_type": "code",
   "execution_count": 41,
   "metadata": {},
   "outputs": [],
   "source": [
    "X = X_samp[train_cols]  # 독립변수\n",
    "y = y_samp[\"Survived\"]"
   ]
  },
  {
   "cell_type": "code",
   "execution_count": 42,
   "metadata": {},
   "outputs": [
    {
     "name": "stdout",
     "output_type": "stream",
     "text": [
      "Warning: Maximum number of iterations has been exceeded.\n",
      "         Current function value: 0.466486\n",
      "         Iterations: 35\n"
     ]
    },
    {
     "name": "stderr",
     "output_type": "stream",
     "text": [
      "c:\\python312\\Lib\\site-packages\\statsmodels\\base\\model.py:607: ConvergenceWarning: Maximum Likelihood optimization failed to converge. Check mle_retvals\n",
      "  warnings.warn(\"Maximum Likelihood optimization failed to \"\n"
     ]
    },
    {
     "data": {
      "text/html": [
       "<table class=\"simpletable\">\n",
       "<tr>\n",
       "        <td>Model:</td>              <td>Logit</td>           <td>Method:</td>          <td>MLE</td>   \n",
       "</tr>\n",
       "<tr>\n",
       "  <td>Dependent Variable:</td>     <td>Survived</td>     <td>Pseudo R-squared:</td>    <td>0.327</td>  \n",
       "</tr>\n",
       "<tr>\n",
       "         <td>Date:</td>        <td>2024-03-18 10:16</td>       <td>AIC:</td>         <td>656.1528</td> \n",
       "</tr>\n",
       "<tr>\n",
       "   <td>No. Observations:</td>         <td>684</td>             <td>BIC:</td>         <td>696.9045</td> \n",
       "</tr>\n",
       "<tr>\n",
       "       <td>Df Model:</td>              <td>8</td>         <td>Log-Likelihood:</td>    <td>-319.08</td> \n",
       "</tr>\n",
       "<tr>\n",
       "     <td>Df Residuals:</td>           <td>675</td>           <td>LL-Null:</td>        <td>-474.11</td> \n",
       "</tr>\n",
       "<tr>\n",
       "      <td>Converged:</td>           <td>0.0000</td>        <td>LLR p-value:</td>    <td>2.9525e-62</td>\n",
       "</tr>\n",
       "<tr>\n",
       "    <td>No. Iterations:</td>        <td>35.0000</td>          <td>Scale:</td>         <td>1.0000</td>  \n",
       "</tr>\n",
       "</table>\n",
       "<table class=\"simpletable\">\n",
       "<tr>\n",
       "     <td></td>      <th>Coef.</th>    <th>Std.Err.</th>      <th>z</th>     <th>P>|z|</th>     <th>[0.025</th>        <th>0.975]</th>    \n",
       "</tr>\n",
       "<tr>\n",
       "  <th>Pclass1</th> <td>1.7178</td>  <td>5586951.9870</td> <td>0.0000</td>  <td>1.0000</td> <td>-10950222.9600</td> <td>10950226.3957</td>\n",
       "</tr>\n",
       "<tr>\n",
       "  <th>Pclass2</th> <td>0.6262</td>  <td>5586951.9870</td> <td>0.0000</td>  <td>1.0000</td> <td>-10950224.0517</td> <td>10950225.3041</td>\n",
       "</tr>\n",
       "<tr>\n",
       "  <th>Pclass3</th> <td>-0.3330</td> <td>5586951.9870</td> <td>-0.0000</td> <td>1.0000</td> <td>-10950225.0109</td> <td>10950224.3449</td>\n",
       "</tr>\n",
       "<tr>\n",
       "  <th>male</th>    <td>-0.3334</td> <td>5586951.9870</td> <td>-0.0000</td> <td>1.0000</td> <td>-10950225.0113</td> <td>10950224.3444</td>\n",
       "</tr>\n",
       "<tr>\n",
       "  <th>female</th>  <td>2.3445</td>  <td>5586951.9870</td> <td>0.0000</td>  <td>1.0000</td> <td>-10950222.3334</td> <td>10950227.0224</td>\n",
       "</tr>\n",
       "<tr>\n",
       "  <th>Age</th>     <td>-0.0355</td>    <td>0.0088</td>    <td>-4.0333</td> <td>0.0001</td>     <td>-0.0527</td>       <td>-0.0182</td>   \n",
       "</tr>\n",
       "<tr>\n",
       "  <th>SibSp</th>   <td>-0.3053</td>    <td>0.1234</td>    <td>-2.4750</td> <td>0.0133</td>     <td>-0.5471</td>       <td>-0.0635</td>   \n",
       "</tr>\n",
       "<tr>\n",
       "  <th>Parch</th>   <td>0.0078</td>     <td>0.1496</td>    <td>0.0519</td>  <td>0.9586</td>     <td>-0.2854</td>       <td>0.3009</td>    \n",
       "</tr>\n",
       "<tr>\n",
       "  <th>Fare</th>    <td>0.0024</td>     <td>0.0028</td>    <td>0.8660</td>  <td>0.3865</td>     <td>-0.0030</td>       <td>0.0078</td>    \n",
       "</tr>\n",
       "</table><br/>\n"
      ],
      "text/latex": [
       "\\begin{table}\n",
       "\\caption{Results: Logit}\n",
       "\\label{}\n",
       "\\begin{center}\n",
       "\\begin{tabular}{llll}\n",
       "\\hline\n",
       "Model:              & Logit            & Method:           & MLE         \\\\\n",
       "Dependent Variable: & Survived         & Pseudo R-squared: & 0.327       \\\\\n",
       "Date:               & 2024-03-18 10:16 & AIC:              & 656.1528    \\\\\n",
       "No. Observations:   & 684              & BIC:              & 696.9045    \\\\\n",
       "Df Model:           & 8                & Log-Likelihood:   & -319.08     \\\\\n",
       "Df Residuals:       & 675              & LL-Null:          & -474.11     \\\\\n",
       "Converged:          & 0.0000           & LLR p-value:      & 2.9525e-62  \\\\\n",
       "No. Iterations:     & 35.0000          & Scale:            & 1.0000      \\\\\n",
       "\\hline\n",
       "\\end{tabular}\n",
       "\\end{center}\n",
       "\n",
       "\\begin{center}\n",
       "\\begin{tabular}{lrrrrrr}\n",
       "\\hline\n",
       "        &   Coef. &     Std.Err. &       z & P$> |$z$|$ &         [0.025 &        0.975]  \\\\\n",
       "\\hline\n",
       "Pclass1 &  1.7178 & 5586951.9870 &  0.0000 &      1.0000 & -10950222.9600 & 10950226.3957  \\\\\n",
       "Pclass2 &  0.6262 & 5586951.9870 &  0.0000 &      1.0000 & -10950224.0517 & 10950225.3041  \\\\\n",
       "Pclass3 & -0.3330 & 5586951.9870 & -0.0000 &      1.0000 & -10950225.0109 & 10950224.3449  \\\\\n",
       "male    & -0.3334 & 5586951.9870 & -0.0000 &      1.0000 & -10950225.0113 & 10950224.3444  \\\\\n",
       "female  &  2.3445 & 5586951.9870 &  0.0000 &      1.0000 & -10950222.3334 & 10950227.0224  \\\\\n",
       "Age     & -0.0355 &       0.0088 & -4.0333 &      0.0001 &        -0.0527 &       -0.0182  \\\\\n",
       "SibSp   & -0.3053 &       0.1234 & -2.4750 &      0.0133 &        -0.5471 &       -0.0635  \\\\\n",
       "Parch   &  0.0078 &       0.1496 &  0.0519 &      0.9586 &        -0.2854 &        0.3009  \\\\\n",
       "Fare    &  0.0024 &       0.0028 &  0.8660 &      0.3865 &        -0.0030 &        0.0078  \\\\\n",
       "\\hline\n",
       "\\end{tabular}\n",
       "\\end{center}\n",
       "\\end{table}\n",
       "\\bigskip\n"
      ],
      "text/plain": [
       "<class 'statsmodels.iolib.summary2.Summary'>\n",
       "\"\"\"\n",
       "                             Results: Logit\n",
       "========================================================================\n",
       "Model:                 Logit              Method:             MLE       \n",
       "Dependent Variable:    Survived           Pseudo R-squared:   0.327     \n",
       "Date:                  2024-03-18 10:16   AIC:                656.1528  \n",
       "No. Observations:      684                BIC:                696.9045  \n",
       "Df Model:              8                  Log-Likelihood:     -319.08   \n",
       "Df Residuals:          675                LL-Null:            -474.11   \n",
       "Converged:             0.0000             LLR p-value:        2.9525e-62\n",
       "No. Iterations:        35.0000            Scale:              1.0000    \n",
       "------------------------------------------------------------------------\n",
       "         Coef.    Std.Err.      z    P>|z|      [0.025         0.975]   \n",
       "------------------------------------------------------------------------\n",
       "Pclass1  1.7178 5586951.9870  0.0000 1.0000 -10950222.9600 10950226.3957\n",
       "Pclass2  0.6262 5586951.9870  0.0000 1.0000 -10950224.0517 10950225.3041\n",
       "Pclass3 -0.3330 5586951.9870 -0.0000 1.0000 -10950225.0109 10950224.3449\n",
       "male    -0.3334 5586951.9870 -0.0000 1.0000 -10950225.0113 10950224.3444\n",
       "female   2.3445 5586951.9870  0.0000 1.0000 -10950222.3334 10950227.0224\n",
       "Age     -0.0355       0.0088 -4.0333 0.0001        -0.0527       -0.0182\n",
       "SibSp   -0.3053       0.1234 -2.4750 0.0133        -0.5471       -0.0635\n",
       "Parch    0.0078       0.1496  0.0519 0.9586        -0.2854        0.3009\n",
       "Fare     0.0024       0.0028  0.8660 0.3865        -0.0030        0.0078\n",
       "========================================================================\n",
       "\n",
       "\"\"\""
      ]
     },
     "execution_count": 42,
     "metadata": {},
     "output_type": "execute_result"
    }
   ],
   "source": [
    "import statsmodels.api as sm\n",
    "\n",
    "model = sm.Logit(y, X)\n",
    "result = model.fit()\n",
    "result.summary2()\n",
    "\n",
    "# 모델의 설명력 32.2%\n",
    "# Parch, Fare는 유의하지 않음\n",
    "# 해석 : coef(회귀계수)를 기준으로 볼 때의 생존 확률\n",
    "# 좌석등급 : 1등석 > 2등석 > 3등석 순으로 생존률이 높았다.\n",
    "# 성별 : 여성은 생존 확률이 높았다.\n",
    "# 1등석 > 2등석 > 성별 > 3등석순으로 생존 여부에 영향을 미쳤음"
   ]
  },
  {
   "cell_type": "code",
   "execution_count": 43,
   "metadata": {},
   "outputs": [
    {
     "name": "stdout",
     "output_type": "stream",
     "text": [
      "학습용:  0.7678244972577697\n",
      "검증용:  0.8029197080291971\n"
     ]
    }
   ],
   "source": [
    "from sklearn.model_selection import train_test_split\n",
    "from sklearn.linear_model import LogisticRegression\n",
    "\n",
    "X_train, X_test, y_train, y_test = train_test_split(\n",
    "    X, y, test_size=0.2, stratify=y, random_state=0\n",
    ")\n",
    "model = LogisticRegression(max_iter=1000)\n",
    "model.fit(X_train, y_train)\n",
    "\n",
    "print(\"학습용: \", model.score(X_train, y_train))\n",
    "print(\"검증용: \", model.score(X_test, y_test))"
   ]
  },
  {
   "cell_type": "code",
   "execution_count": 44,
   "metadata": {},
   "outputs": [
    {
     "data": {
      "text/plain": [
       "array([[56, 13],\n",
       "       [14, 54]], dtype=int64)"
      ]
     },
     "execution_count": 44,
     "metadata": {},
     "output_type": "execute_result"
    }
   ],
   "source": [
    "# confusion matrix(혼동행렬, 오분류표) 출력\n",
    "\n",
    "from sklearn.metrics import confusion_matrix\n",
    "\n",
    "pred = model.predict(X_test)\n",
    "\n",
    "cm = confusion_matrix(y_test, pred)\n",
    "cm"
   ]
  },
  {
   "cell_type": "code",
   "execution_count": 45,
   "metadata": {},
   "outputs": [
    {
     "data": {
      "text/html": [
       "<div>\n",
       "<style scoped>\n",
       "    .dataframe tbody tr th:only-of-type {\n",
       "        vertical-align: middle;\n",
       "    }\n",
       "\n",
       "    .dataframe tbody tr th {\n",
       "        vertical-align: top;\n",
       "    }\n",
       "\n",
       "    .dataframe thead th {\n",
       "        text-align: right;\n",
       "    }\n",
       "</style>\n",
       "<table border=\"1\" class=\"dataframe\">\n",
       "  <thead>\n",
       "    <tr style=\"text-align: right;\">\n",
       "      <th></th>\n",
       "      <th>0</th>\n",
       "      <th>1</th>\n",
       "    </tr>\n",
       "  </thead>\n",
       "  <tbody>\n",
       "    <tr>\n",
       "      <th>0</th>\n",
       "      <td>56</td>\n",
       "      <td>13</td>\n",
       "    </tr>\n",
       "    <tr>\n",
       "      <th>1</th>\n",
       "      <td>14</td>\n",
       "      <td>54</td>\n",
       "    </tr>\n",
       "  </tbody>\n",
       "</table>\n",
       "</div>"
      ],
      "text/plain": [
       "    0   1\n",
       "0  56  13\n",
       "1  14  54"
      ]
     },
     "execution_count": 45,
     "metadata": {},
     "output_type": "execute_result"
    }
   ],
   "source": [
    "df_cm = pd.DataFrame(cm, index=[\"0\", \"1\"], columns=[\"0\", \"1\"])\n",
    "df_cm"
   ]
  },
  {
   "cell_type": "code",
   "execution_count": 46,
   "metadata": {},
   "outputs": [
    {
     "data": {
      "text/plain": [
       "<Axes: title={'center': 'confusion_matrix'}>"
      ]
     },
     "execution_count": 46,
     "metadata": {},
     "output_type": "execute_result"
    },
    {
     "data": {
      "image/png": "[encoded data removed]",
      "text/plain": [
       "<Figure size 900x600 with 2 Axes>"
      ]
     },
     "metadata": {},
     "output_type": "display_data"
    }
   ],
   "source": [
    "from matplotlib import pyplot as plt\n",
    "\n",
    "sns.set(font_scale=1.4)\n",
    "plt.figure(figsize=(9, 6))\n",
    "plt.title(\"confusion_matrix\")\n",
    "sns.heatmap(df_cm, annot=True)\n",
    "# 색상이 밝으면 높은 숫자, 색상이 어두우면 낮은 숫자"
   ]
  },
  {
   "cell_type": "code",
   "execution_count": 47,
   "metadata": {},
   "outputs": [
    {
     "name": "stdout",
     "output_type": "stream",
     "text": [
      "[0]\n",
      "[1]\n",
      "[1]\n",
      "[[0.82780847 0.17219153]]\n",
      "[[0.04441093 0.95558907]]\n",
      "[[0.21685432 0.78314568]]\n"
     ]
    },
    {
     "name": "stderr",
     "output_type": "stream",
     "text": [
      "c:\\python312\\Lib\\site-packages\\sklearn\\base.py:493: UserWarning: X does not have valid feature names, but LogisticRegression was fitted with feature names\n",
      "  warnings.warn(\n",
      "c:\\python312\\Lib\\site-packages\\sklearn\\base.py:493: UserWarning: X does not have valid feature names, but LogisticRegression was fitted with feature names\n",
      "  warnings.warn(\n",
      "c:\\python312\\Lib\\site-packages\\sklearn\\base.py:493: UserWarning: X does not have valid feature names, but LogisticRegression was fitted with feature names\n",
      "  warnings.warn(\n",
      "c:\\python312\\Lib\\site-packages\\sklearn\\base.py:493: UserWarning: X does not have valid feature names, but LogisticRegression was fitted with feature names\n",
      "  warnings.warn(\n",
      "c:\\python312\\Lib\\site-packages\\sklearn\\base.py:493: UserWarning: X does not have valid feature names, but LogisticRegression was fitted with feature names\n",
      "  warnings.warn(\n",
      "c:\\python312\\Lib\\site-packages\\sklearn\\base.py:493: UserWarning: X does not have valid feature names, but LogisticRegression was fitted with feature names\n",
      "  warnings.warn(\n"
     ]
    }
   ],
   "source": [
    "# 새로운 값 예측\n",
    "# 1등석, 2등석, 3등석, 남성, 여성, 나이, 형제자매, 부모자녀, 요금\n",
    "\n",
    "# 3등석, 남성, 19세, 형제자매1, 부모자녀0, 요금50\n",
    "person1 = [[0, 0, 1, 1, 0, 19, 1, 0, 50]]\n",
    "\n",
    "# 1등석, 여성, 17세, 형제자매0, 부모자녀2, 요금30\n",
    "person2 = [[1, 0, 0, 0, 1, 17, 0, 2, 30]]\n",
    "\n",
    "# 2등석, 여성, 40세, 형제자매2, 부모자녀0, 요금70\n",
    "person3 = [[0, 1, 0, 0, 1, 40, 2, 0, 70]]\n",
    "\n",
    "print(model.predict(person1))\n",
    "print(model.predict(person2))\n",
    "print(model.predict(person3))\n",
    "print(model.predict_proba(person1))\n",
    "print(model.predict_proba(person2))\n",
    "print(model.predict_proba(person3))"
   ]
  },
  {
   "cell_type": "code",
   "execution_count": 48,
   "metadata": {},
   "outputs": [
    {
     "data": {
      "text/plain": [
       "['c:/data/titanic/titanic_logit.model']"
      ]
     },
     "execution_count": 48,
     "metadata": {},
     "output_type": "execute_result"
    }
   ],
   "source": [
    "import joblib\n",
    "\n",
    "joblib.dump(model, \"c:/data/titanic/titanic_logit.model\")"
   ]
  }
 ],
 "metadata": {
  "kernelspec": {
   "display_name": "Python 3",
   "language": "python",
   "name": "python3"
  },
  "language_info": {
   "codemirror_mode": {
    "name": "ipython",
    "version": 3
   },
   "file_extension": ".py",
   "mimetype": "text/x-python",
   "name": "python",
   "nbconvert_exporter": "python",
   "pygments_lexer": "ipython3",
   "version": "3.12.1"
  }
 },
 "nbformat": 4,
 "nbformat_minor": 2
}
