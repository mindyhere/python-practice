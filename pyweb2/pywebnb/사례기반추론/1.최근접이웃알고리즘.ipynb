{
 "cells": [
  {
   "cell_type": "code",
   "execution_count": 3,
   "metadata": {},
   "outputs": [
    {
     "name": "stdout",
     "output_type": "stream",
     "text": [
      "[0]\n",
      "[[0.66666667 0.33333333]]\n",
      "[0]\n"
     ]
    }
   ],
   "source": [
    "from sklearn.neighbors import KNeighborsClassifier\n",
    "\n",
    "X = [[0], [1], [2], [3]]  # 입력값\n",
    "y = [0, 0, 1, 1]  # 출력값(지도학습)\n",
    "knn = KNeighborsClassifier(n_neighbors=3)\n",
    "#     k:kind                이웃의 수=3 → 가장 가까운 3개의 이웃을 비교\n",
    "knn.fit(X, y)\n",
    "\n",
    "# 1.1의 분류는?\n",
    "print(knn.predict([[1.1]]))  # 0으로 분류됨\n",
    "\n",
    "# 0.9는 0일 확률 66%, 1일 확률 33% => 0으로 분류됨\n",
    "print(knn.predict_proba([[0.9]]))\n",
    "print(knn.predict([[0.9]]))"
   ]
  },
  {
   "cell_type": "code",
   "execution_count": 4,
   "metadata": {},
   "outputs": [
    {
     "name": "stdout",
     "output_type": "stream",
     "text": [
      "(array([[0.8]]), array([[2]], dtype=int64))\n"
     ]
    }
   ],
   "source": [
    "# 비지도학습\n",
    "from sklearn.neighbors import NearestNeighbors\n",
    "\n",
    "samples = [[0, 0, 0], [0, 0.5, 0], [1, 1, 0.2]]\n",
    "nn = NearestNeighbors(n_neighbors=1)\n",
    "#                     이웃의 수 1개 → 거리가 가장 가까운 1개를 답으로\n",
    "nn.fit(samples)\n",
    "\n",
    "# 새로운 데이터 1,1,1에 가장 가까운 데이터는?\n",
    "print(nn.kneighbors([[1.0, 1.0, 1.0]]))\n",
    "# 세번째가 가장 가깝고 거리는 0.8"
   ]
  },
  {
   "cell_type": "code",
   "execution_count": 6,
   "metadata": {},
   "outputs": [
    {
     "name": "stdout",
     "output_type": "stream",
     "text": [
      "[32.5]\n",
      "[21.  21.  32.5 32.5]\n"
     ]
    }
   ],
   "source": [
    "# 최근접 이웃 회귀모형\n",
    "from sklearn.neighbors import KNeighborsRegressor\n",
    "\n",
    "X = [[40], [45], [60], [70]]  # 평방미터\n",
    "y = [20, 22, 30, 35]  # 월세\n",
    "\n",
    "neigh = KNeighborsRegressor(n_neighbors=2)\n",
    "neigh.fit(X, y)\n",
    "\n",
    "# 65평방미터일 때의 월세는?\n",
    "print(neigh.predict([[65]]))\n",
    "print(neigh.predict(X))"
   ]
  }
 ],
 "metadata": {
  "kernelspec": {
   "display_name": "Python 3",
   "language": "python",
   "name": "python3"
  },
  "language_info": {
   "codemirror_mode": {
    "name": "ipython",
    "version": 3
   },
   "file_extension": ".py",
   "mimetype": "text/x-python",
   "name": "python",
   "nbconvert_exporter": "python",
   "pygments_lexer": "ipython3",
   "version": "3.12.1"
  }
 },
 "nbformat": 4,
 "nbformat_minor": 2
}
