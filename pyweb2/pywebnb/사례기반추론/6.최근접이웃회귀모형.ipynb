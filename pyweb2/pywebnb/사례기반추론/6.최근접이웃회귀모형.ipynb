{
 "cells": [
  {
   "cell_type": "code",
   "execution_count": 16,
   "metadata": {},
   "outputs": [
    {
     "data": {
      "text/html": [
       "<div>\n",
       "<style scoped>\n",
       "    .dataframe tbody tr th:only-of-type {\n",
       "        vertical-align: middle;\n",
       "    }\n",
       "\n",
       "    .dataframe tbody tr th {\n",
       "        vertical-align: top;\n",
       "    }\n",
       "\n",
       "    .dataframe thead th {\n",
       "        text-align: right;\n",
       "    }\n",
       "</style>\n",
       "<table border=\"1\" class=\"dataframe\">\n",
       "  <thead>\n",
       "    <tr style=\"text-align: right;\">\n",
       "      <th></th>\n",
       "      <th>X1</th>\n",
       "      <th>X2</th>\n",
       "      <th>X3</th>\n",
       "      <th>X4</th>\n",
       "      <th>X5</th>\n",
       "      <th>X6</th>\n",
       "      <th>X7</th>\n",
       "      <th>X8</th>\n",
       "      <th>Y1</th>\n",
       "      <th>Y2</th>\n",
       "    </tr>\n",
       "  </thead>\n",
       "  <tbody>\n",
       "    <tr>\n",
       "      <th>0</th>\n",
       "      <td>0.98</td>\n",
       "      <td>514.5</td>\n",
       "      <td>294.0</td>\n",
       "      <td>110.25</td>\n",
       "      <td>7.0</td>\n",
       "      <td>2</td>\n",
       "      <td>0.0</td>\n",
       "      <td>0</td>\n",
       "      <td>15.55</td>\n",
       "      <td>21.33</td>\n",
       "    </tr>\n",
       "    <tr>\n",
       "      <th>1</th>\n",
       "      <td>0.98</td>\n",
       "      <td>514.5</td>\n",
       "      <td>294.0</td>\n",
       "      <td>110.25</td>\n",
       "      <td>7.0</td>\n",
       "      <td>3</td>\n",
       "      <td>0.0</td>\n",
       "      <td>0</td>\n",
       "      <td>15.55</td>\n",
       "      <td>21.33</td>\n",
       "    </tr>\n",
       "    <tr>\n",
       "      <th>2</th>\n",
       "      <td>0.98</td>\n",
       "      <td>514.5</td>\n",
       "      <td>294.0</td>\n",
       "      <td>110.25</td>\n",
       "      <td>7.0</td>\n",
       "      <td>4</td>\n",
       "      <td>0.0</td>\n",
       "      <td>0</td>\n",
       "      <td>15.55</td>\n",
       "      <td>21.33</td>\n",
       "    </tr>\n",
       "    <tr>\n",
       "      <th>3</th>\n",
       "      <td>0.98</td>\n",
       "      <td>514.5</td>\n",
       "      <td>294.0</td>\n",
       "      <td>110.25</td>\n",
       "      <td>7.0</td>\n",
       "      <td>5</td>\n",
       "      <td>0.0</td>\n",
       "      <td>0</td>\n",
       "      <td>15.55</td>\n",
       "      <td>21.33</td>\n",
       "    </tr>\n",
       "    <tr>\n",
       "      <th>4</th>\n",
       "      <td>0.90</td>\n",
       "      <td>563.5</td>\n",
       "      <td>318.5</td>\n",
       "      <td>122.50</td>\n",
       "      <td>7.0</td>\n",
       "      <td>2</td>\n",
       "      <td>0.0</td>\n",
       "      <td>0</td>\n",
       "      <td>20.84</td>\n",
       "      <td>28.28</td>\n",
       "    </tr>\n",
       "  </tbody>\n",
       "</table>\n",
       "</div>"
      ],
      "text/plain": [
       "     X1     X2     X3      X4   X5  X6   X7  X8     Y1     Y2\n",
       "0  0.98  514.5  294.0  110.25  7.0   2  0.0   0  15.55  21.33\n",
       "1  0.98  514.5  294.0  110.25  7.0   3  0.0   0  15.55  21.33\n",
       "2  0.98  514.5  294.0  110.25  7.0   4  0.0   0  15.55  21.33\n",
       "3  0.98  514.5  294.0  110.25  7.0   5  0.0   0  15.55  21.33\n",
       "4  0.90  563.5  318.5  122.50  7.0   2  0.0   0  20.84  28.28"
      ]
     },
     "execution_count": 16,
     "metadata": {},
     "output_type": "execute_result"
    }
   ],
   "source": [
    "# 난방효율성 데이터\n",
    "# 18가지의 건축 특성을 지닌 12가지의 건축 속성, 총 768채의 주택 조사\n",
    "# X1 : 상대적 크기\n",
    "# X2 : 건축 표면적\n",
    "# X3 : 벽체 면적\n",
    "# X4 : 지붕 면적\n",
    "# X5 : 전체 높이\n",
    "# X6 : 건물의 방위\n",
    "# X7 : 유리창 면적\n",
    "# X8 : 유리창 면적의 분산\n",
    "# Y1 : 난방 하중 → 실습데이터  \n",
    "# Y2 : 냉방 하중\n",
    "\n",
    "import pandas as pd\n",
    "\n",
    "df = pd.read_csv(\"c:/data/energy/ENB2012_data.csv\")\n",
    "df.head()"
   ]
  },
  {
   "cell_type": "code",
   "execution_count": 17,
   "metadata": {},
   "outputs": [
    {
     "name": "stdout",
     "output_type": "stream",
     "text": [
      "Index(['X1', 'X2', 'X3', 'X4', 'X5', 'X6', 'X7', 'X8'], dtype='object')\n"
     ]
    }
   ],
   "source": [
    "train_cols = df.columns[0:8]\n",
    "print(train_cols)\n",
    "X = df[train_cols]  # 독립변수\n",
    "y = df[\"Y1\"]  # 난방하중"
   ]
  },
  {
   "cell_type": "code",
   "execution_count": 18,
   "metadata": {},
   "outputs": [
    {
     "data": {
      "text/plain": [
       "Y1\n",
       "15.16    6\n",
       "13.00    5\n",
       "15.55    4\n",
       "10.68    4\n",
       "28.15    4\n",
       "        ..\n",
       "10.47    1\n",
       "33.21    1\n",
       "36.77    1\n",
       "36.71    1\n",
       "16.64    1\n",
       "Name: count, Length: 586, dtype: int64"
      ]
     },
     "execution_count": 18,
     "metadata": {},
     "output_type": "execute_result"
    }
   ],
   "source": [
    "y.value_counts()"
   ]
  },
  {
   "cell_type": "code",
   "execution_count": 19,
   "metadata": {},
   "outputs": [],
   "source": [
    "from sklearn.model_selection import train_test_split\n",
    "\n",
    "X_train, X_test, y_train, y_test = train_test_split(X, y, random_state=0)"
   ]
  },
  {
   "cell_type": "code",
   "execution_count": 20,
   "metadata": {},
   "outputs": [
    {
     "data": {
      "text/plain": [
       "<Axes: >"
      ]
     },
     "execution_count": 20,
     "metadata": {},
     "output_type": "execute_result"
    },
    {
     "data": {
      "image/png": "[encoded data removed]",
      "text/plain": [
       "<Figure size 640x480 with 1 Axes>"
      ]
     },
     "metadata": {},
     "output_type": "display_data"
    }
   ],
   "source": [
    "X.boxplot()"
   ]
  },
  {
   "cell_type": "code",
   "execution_count": 21,
   "metadata": {},
   "outputs": [
    {
     "name": "stdout",
     "output_type": "stream",
     "text": [
      "                 X1            X2            X3            X4            X5  \\\n",
      "count  5.760000e+02  5.760000e+02  5.760000e+02  5.760000e+02  5.760000e+02   \n",
      "mean  -4.317534e-16 -1.295260e-16  4.471732e-16  2.898916e-16  9.251859e-17   \n",
      "std    1.000000e+00  1.000000e+00  1.000000e+00  1.000000e+00  1.000000e+00   \n",
      "min   -1.346764e+00 -1.817237e+00 -1.712958e+00 -1.498746e+00 -9.751352e-01   \n",
      "25%   -9.654262e-01 -7.719025e-01 -5.749374e-01 -6.825365e-01 -9.751352e-01   \n",
      "50%   -2.027511e-01  1.340545e-01 -5.927190e-03  9.498830e-01 -9.751352e-01   \n",
      "75%    6.552584e-01  9.703225e-01  5.630831e-01  9.498830e-01  1.023718e+00   \n",
      "max    2.085274e+00  1.527835e+00  2.270114e+00  9.498830e-01  1.023718e+00   \n",
      "\n",
      "                 X6            X7            X8  \n",
      "count  5.760000e+02  5.760000e+02  5.760000e+02  \n",
      "mean   1.757853e-16  2.390063e-16  6.784696e-17  \n",
      "std    1.000000e+00  1.000000e+00  1.000000e+00  \n",
      "min   -1.329847e+00 -1.775710e+00 -1.827180e+00  \n",
      "25%   -4.297389e-01 -1.026125e+00 -5.262459e-01  \n",
      "50%   -4.297389e-01  9.825293e-02  1.242211e-01  \n",
      "75%    4.703688e-01  1.222631e+00  7.746882e-01  \n",
      "max    1.370477e+00  1.222631e+00  1.425155e+00  \n",
      "               X1          X2          X3          X4          X5          X6  \\\n",
      "count  192.000000  192.000000  192.000000  192.000000  192.000000  192.000000   \n",
      "mean     0.110561   -0.114213   -0.023709   -0.100137    0.097166    0.081260   \n",
      "std      1.031482    1.006627    1.054370    1.011347    0.999372    1.027974   \n",
      "min     -1.346764   -1.817237   -1.712958   -1.498746   -0.975135   -1.329847   \n",
      "25%     -0.679423   -0.771902   -0.574937   -1.226676   -0.975135   -1.329847   \n",
      "50%     -0.012082   -0.144701   -0.005927   -0.682537    1.023718    0.470369   \n",
      "75%      0.655258    0.691567    0.563083    0.949883    1.023718    1.370477   \n",
      "max      2.085274    1.527835    2.270114    0.949883    1.023718    1.370477   \n",
      "\n",
      "               X7          X8  \n",
      "count  192.000000  192.000000  \n",
      "mean    -0.075479    0.009034  \n",
      "std      0.994846    1.037570  \n",
      "min     -1.775710   -1.827180  \n",
      "25%     -1.026125   -1.176713  \n",
      "50%      0.098253    0.124221  \n",
      "75%      1.222631    0.774688  \n",
      "max      1.222631    1.425155  \n"
     ]
    }
   ],
   "source": [
    "# Standardization 표준화, 평균 0, 표준편차 1\n",
    "# 데이터를 0을 중심으로 양쪽으로 분포시키는 방법\n",
    "# 평균을 기준으로 얼마나 떨어져 있는지를 나타내는 값\n",
    "# (측정값-평균) / 표준편차\n",
    "# k-means, svm 등 거리 기반의 모델에서 주로 사용함\n",
    "# 변수의 단위가 다른 경우 가중치가 부여되어 노이즈가 생길 수 있다\n",
    "# 1000원과 1달러(가중치)가 1000배가 되지 않도록 해야 함\n",
    "\n",
    "# 학습용 데이터셋의 변수들의 평균값 계산\n",
    "mean_on_train = X_train.mean(axis=0)\n",
    "\n",
    "# 학습용 데이터셋의 변수들의 표준편차값 계산\n",
    "std_on_train = X_train.std(axis=0)\n",
    "\n",
    "# 값에서 평균을 빼고 표준 편차로 나누면 평균 0, 표준편차 1인 데이터로 변환됨\n",
    "X_train_scaled = (X_train - mean_on_train) / std_on_train\n",
    "\n",
    "# 검증용 데이터셋에도 같은 계산 적용\n",
    "X_test_scaled = (X_test - mean_on_train) / std_on_train\n",
    "\n",
    "print(X_train_scaled.describe())\n",
    "print(X_test_scaled.describe())"
   ]
  },
  {
   "cell_type": "code",
   "execution_count": 22,
   "metadata": {},
   "outputs": [
    {
     "data": {
      "image/png": "[encoded data removed]",
      "text/plain": [
       "<Figure size 640x480 with 1 Axes>"
      ]
     },
     "metadata": {},
     "output_type": "display_data"
    }
   ],
   "source": [
    "import matplotlib.pyplot as plt\n",
    "\n",
    "X_train_scaled.boxplot()\n",
    "plt.show()  # → 평균 0, 표준편차 1"
   ]
  },
  {
   "cell_type": "code",
   "execution_count": 23,
   "metadata": {},
   "outputs": [
    {
     "data": {
      "text/plain": [
       "array([15.29 , 10.455, 36.3  , 16.695, 32.54 , 28.94 , 28.485, 28.945,\n",
       "       28.915, 30.615])"
      ]
     },
     "execution_count": 23,
     "metadata": {},
     "output_type": "execute_result"
    }
   ],
   "source": [
    "from sklearn.neighbors import KNeighborsRegressor\n",
    "\n",
    "model = KNeighborsRegressor(n_neighbors=2)\n",
    "model.fit(X_train_scaled, y_train)\n",
    "\n",
    "model.predict(X_test_scaled)[:10]"
   ]
  },
  {
   "cell_type": "code",
   "execution_count": 24,
   "metadata": {},
   "outputs": [
    {
     "data": {
      "text/plain": [
       "array([15.18, 10.32, 37.26, 16.95, 32.26, 27.9 , 28.18, 28.95, 29.07,\n",
       "       23.8 ])"
      ]
     },
     "execution_count": 24,
     "metadata": {},
     "output_type": "execute_result"
    }
   ],
   "source": [
    "y_test.values[:10]"
   ]
  },
  {
   "cell_type": "code",
   "execution_count": 25,
   "metadata": {},
   "outputs": [
    {
     "data": {
      "image/png": "[encoded data removed]",
      "text/plain": [
       "<Figure size 2000x1000 with 1 Axes>"
      ]
     },
     "metadata": {},
     "output_type": "display_data"
    }
   ],
   "source": [
    "plt.figure(figsize=(20, 10))\n",
    "plt.bar(range(len(y_test)), model.predict(X_test_scaled), label=\"predict\")\n",
    "plt.bar(range(len(y_test)), y_test.values, label=\"real\")\n",
    "plt.legend()\n",
    "plt.show()"
   ]
  },
  {
   "cell_type": "code",
   "execution_count": 26,
   "metadata": {},
   "outputs": [
    {
     "data": {
      "text/plain": [
       "0.9488237490773516"
      ]
     },
     "execution_count": 26,
     "metadata": {},
     "output_type": "execute_result"
    }
   ],
   "source": [
    "# score() 함수의 결과값 - R Squared → 0.0~1.0 모델의 설명력\n",
    "model.score(X_test_scaled, y_test)"
   ]
  },
  {
   "cell_type": "code",
   "execution_count": 27,
   "metadata": {},
   "outputs": [
    {
     "name": "stdout",
     "output_type": "stream",
     "text": [
      "5.527708333333334\n",
      "2.3511078948728263\n"
     ]
    }
   ],
   "source": [
    "from sklearn.metrics import mean_squared_error\n",
    "\n",
    "print(mean_squared_error(y_test, model.predict(X_test_scaled)))\n",
    "print(mean_squared_error(y_test, model.predict(X_test_scaled)) ** 0.5)  # rmse"
   ]
  }
 ],
 "metadata": {
  "kernelspec": {
   "display_name": "Python 3",
   "language": "python",
   "name": "python3"
  },
  "language_info": {
   "codemirror_mode": {
    "name": "ipython",
    "version": 3
   },
   "file_extension": ".py",
   "mimetype": "text/x-python",
   "name": "python",
   "nbconvert_exporter": "python",
   "pygments_lexer": "ipython3",
   "version": "3.12.1"
  }
 },
 "nbformat": 4,
 "nbformat_minor": 2
}
