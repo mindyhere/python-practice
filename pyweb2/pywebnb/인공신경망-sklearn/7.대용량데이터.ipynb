{
 "cells": [
  {
   "cell_type": "code",
   "execution_count": 1,
   "metadata": {},
   "outputs": [],
   "source": [
    "# 대용량 데이터 학습 : 대용량 데이터를 기계학습에 사용할 경우 메모리 부족 문제가 발생할 수 있음\n",
    "# 서버 용량 증설\n",
    "# 학습용 데이터를 적게 설정\n",
    "# 분산 처리 시스템(hadoop, spark)\n",
    "\n",
    "from sklearn import datasets\n",
    "import numpy as np\n",
    "\n",
    "iris = datasets.load_iris()\n",
    "\n",
    "X = iris.data\n",
    "y = iris.target"
   ]
  },
  {
   "cell_type": "code",
   "execution_count": 2,
   "metadata": {},
   "outputs": [],
   "source": [
    "# 데이터 섞기\n",
    "idx = np.arange(X.shape[0])\n",
    "np.random.seed(0)\n",
    "np.random.shuffle(idx)\n",
    "X = X[idx]\n",
    "y = y[idx]"
   ]
  },
  {
   "cell_type": "code",
   "execution_count": 3,
   "metadata": {},
   "outputs": [],
   "source": [
    "from sklearn.preprocessing import StandardScaler\n",
    "\n",
    "scaler = StandardScaler()\n",
    "scaler.fit(X)\n",
    "\n",
    "X = scaler.transform(X)"
   ]
  },
  {
   "cell_type": "code",
   "execution_count": 4,
   "metadata": {},
   "outputs": [
    {
     "name": "stdout",
     "output_type": "stream",
     "text": [
      "0.9733333333333333\n",
      "{'activation': 'tanh', 'alpha': 0.0001, 'hidden_layer_sizes': (50,)}\n",
      "MLPClassifier(activation='tanh', hidden_layer_sizes=(50,), max_iter=5000,\n",
      "              random_state=0)\n"
     ]
    }
   ],
   "source": [
    "from sklearn.model_selection import GridSearchCV\n",
    "from sklearn.neural_network import MLPClassifier\n",
    "\n",
    "params = {\n",
    "    \"hidden_layer_sizes\": [(10,), (50,), (100,), (10, 10), (50, 50), (100, 100)],\n",
    "    \"activation\": [\"tanh\", \"relu\"],\n",
    "    \"alpha\": [0.0001, 0.01],\n",
    "}\n",
    "\n",
    "model = MLPClassifier(random_state=0, max_iter=5000)\n",
    "clf = GridSearchCV(model, param_grid=params, cv=3)\n",
    "clf.fit(X, y)\n",
    "\n",
    "print(clf.best_score_)\n",
    "print(clf.best_params_)\n",
    "print(clf.best_estimator_)"
   ]
  },
  {
   "cell_type": "code",
   "execution_count": 5,
   "metadata": {},
   "outputs": [],
   "source": [
    "from sklearn.model_selection import train_test_split\n",
    "\n",
    "X_train, X_test, y_train, y_test = train_test_split(\n",
    "    X, y, test_size=0.2, stratify=y, random_state=0\n",
    ")\n",
    "\n",
    "scaler = StandardScaler()\n",
    "scaler.fit(X_train)\n",
    "X_train = scaler.transform(X_train)\n",
    "X_test = scaler.transform(X_test)"
   ]
  },
  {
   "cell_type": "code",
   "execution_count": 6,
   "metadata": {},
   "outputs": [
    {
     "name": "stdout",
     "output_type": "stream",
     "text": [
      "0\n",
      "1\n",
      "2\n",
      "3\n",
      "4\n",
      "5\n"
     ]
    }
   ],
   "source": [
    "# generator →  메모리는 절약할 수 있지만 실행시간이 더 오래 걸릴 수 있음\n",
    "\n",
    "\n",
    "def make_numbers(n):\n",
    "    while n < 6:\n",
    "        yield n\n",
    "        # yield : 메모리에 저장X, 호출한 곳으로 값을 바로 전달(return과 비슷한 역할)\n",
    "        n += 1\n",
    "\n",
    "\n",
    "for i in make_numbers(0):\n",
    "    print(i)"
   ]
  },
  {
   "cell_type": "code",
   "execution_count": 7,
   "metadata": {},
   "outputs": [
    {
     "name": "stdout",
     "output_type": "stream",
     "text": [
      "920\n",
      "8856\n",
      "192\n",
      "192\n"
     ]
    }
   ],
   "source": [
    "import sys\n",
    "\n",
    "# 리스트의 데이터가 늘어나면 메모리 사용량이 증가한다.\n",
    "# 리스트의 모든 데이터를 메모리에 적재\n",
    "\n",
    "a = [i for i in range(100)]\n",
    "print(sys.getsizeof(a))  # getsizeof() → 바이트크기를 계산\n",
    "\n",
    "b = [i for i in range(1000)]\n",
    "print(sys.getsizeof(b))\n",
    "\n",
    "# generator expression : 위에서 언급한 generator 함수를 좀더 쉽게 사용할 수 있도록 제공되는 표현식\n",
    "# 리스트[] 대신 ()을 사용 → 모든 데이터를 메모리에 적재하지 않고 next() 함수를 통해 조금씩 메모리에 적재, 메모리를 효율적으로 사용할 수 있다\n",
    "\n",
    "c = (i for i in range(100))\n",
    "print(sys.getsizeof(c))\n",
    "\n",
    "d = (i for i in range(1000))\n",
    "print(sys.getsizeof(d))"
   ]
  },
  {
   "cell_type": "code",
   "execution_count": 8,
   "metadata": {},
   "outputs": [
    {
     "name": "stdout",
     "output_type": "stream",
     "text": [
      "1초 멈춤....\n",
      "1초 멈춤....\n",
      "1초 멈춤....\n",
      "1초 멈춤....\n",
      "1초 멈춤....\n"
     ]
    },
    {
     "data": {
      "text/plain": [
       "[0, 1, 2, 3, 4]"
      ]
     },
     "execution_count": 8,
     "metadata": {},
     "output_type": "execute_result"
    }
   ],
   "source": [
    "import time\n",
    "\n",
    "\n",
    "def func_sleep(x):\n",
    "    print(\"1초 멈춤....\")\n",
    "    time.sleep(1)\n",
    "    return x\n",
    "\n",
    "\n",
    "# 리스트\n",
    "items1 = [func_sleep(x) for x in range(5)]\n",
    "items1"
   ]
  },
  {
   "cell_type": "code",
   "execution_count": 9,
   "metadata": {},
   "outputs": [
    {
     "name": "stdout",
     "output_type": "stream",
     "text": [
      "0\n",
      "1\n",
      "2\n",
      "3\n",
      "4\n"
     ]
    }
   ],
   "source": [
    "# 리스트 사용 → 리스트의 모든 원소를 한꺼번에 처리한 후 최종 결과가 출력됨(5개의 메모리 생성)\n",
    "\n",
    "for i in items1:\n",
    "    print(i)"
   ]
  },
  {
   "cell_type": "code",
   "execution_count": 10,
   "metadata": {},
   "outputs": [
    {
     "data": {
      "text/plain": [
       "<generator object <genexpr> at 0x000001F074F8EE90>"
      ]
     },
     "execution_count": 10,
     "metadata": {},
     "output_type": "execute_result"
    }
   ],
   "source": [
    "# generator생성\n",
    "items2 = (func_sleep(y) for y in range(5))\n",
    "items2"
   ]
  },
  {
   "cell_type": "code",
   "execution_count": 11,
   "metadata": {},
   "outputs": [
    {
     "name": "stdout",
     "output_type": "stream",
     "text": [
      "1초 멈춤....\n",
      "0\n",
      "1초 멈춤....\n",
      "1\n",
      "1초 멈춤....\n",
      "2\n",
      "1초 멈춤....\n",
      "3\n",
      "1초 멈춤....\n",
      "4\n"
     ]
    }
   ],
   "source": [
    "# generator를 사용하면 수행 시간이 긴 연산을 한꺼번에 수행하지 않고 조금씩 수행함\n",
    "\n",
    "for i in items2:\n",
    "    print(i)"
   ]
  },
  {
   "cell_type": "code",
   "execution_count": 12,
   "metadata": {},
   "outputs": [
    {
     "name": "stdout",
     "output_type": "stream",
     "text": [
      "리스트 활용, 메모리 사용량: 120\n",
      "generator 활용, 메모리 사용량: 208\n"
     ]
    }
   ],
   "source": [
    "print(\"리스트 활용, 메모리 사용량:\", sys.getsizeof(items1))\n",
    "print(\"generator 활용, 메모리 사용량:\", sys.getsizeof(items2))"
   ]
  },
  {
   "cell_type": "code",
   "execution_count": 13,
   "metadata": {},
   "outputs": [
    {
     "data": {
      "text/plain": [
       "0.9666666666666667"
      ]
     },
     "execution_count": 13,
     "metadata": {},
     "output_type": "execute_result"
    }
   ],
   "source": [
    "# 일반적인 방식(한꺼번에 처리하는 방식)\n",
    "\n",
    "from sklearn.metrics import accuracy_score\n",
    "\n",
    "clf = MLPClassifier(max_iter=5000, random_state=0)\n",
    "clf.fit(X_train, y_train)\n",
    "\n",
    "pred = clf.predict(X_test)\n",
    "accuracy_score(y_test, pred)"
   ]
  },
  {
   "cell_type": "code",
   "execution_count": 14,
   "metadata": {},
   "outputs": [
    {
     "name": "stdout",
     "output_type": "stream",
     "text": [
      "0\n",
      "학습용 : 0.48333333333333334\n",
      "검증용 : 0.5\n",
      "1\n",
      "학습용 : 0.525\n",
      "검증용 : 0.5333333333333333\n",
      "2\n",
      "학습용 : 0.6416666666666667\n",
      "검증용 : 0.6333333333333333\n",
      "3\n",
      "학습용 : 0.725\n",
      "검증용 : 0.7\n",
      "4\n",
      "학습용 : 0.7833333333333333\n",
      "검증용 : 0.7333333333333333\n",
      "5\n",
      "학습용 : 0.825\n",
      "검증용 : 0.7666666666666667\n",
      "6\n",
      "학습용 : 0.8416666666666667\n",
      "검증용 : 0.7666666666666667\n",
      "7\n",
      "학습용 : 0.8333333333333334\n",
      "검증용 : 0.8\n",
      "8\n",
      "학습용 : 0.85\n",
      "검증용 : 0.8\n",
      "9\n",
      "학습용 : 0.8583333333333333\n",
      "검증용 : 0.8\n",
      "10\n",
      "학습용 : 0.8583333333333333\n",
      "검증용 : 0.8\n",
      "11\n",
      "학습용 : 0.8583333333333333\n",
      "검증용 : 0.8\n"
     ]
    }
   ],
   "source": [
    "# batch(X_train, y_train, 10)\n",
    "# 전체 데이터를 보내지 않고 10개씩 조금씩 보내서 처리하는 방식\n",
    "\n",
    "\n",
    "def batch(X1, y1, n):\n",
    "    x_size = len(X1)\n",
    "    for idx in range(0, x_size, n):\n",
    "        yield X1[idx : min(idx + n, x_size)], y1[idx : min(idx + n, x_size)]\n",
    "\n",
    "\n",
    "# 10개씩 12회로 나누어 처리하는 방식\n",
    "clf2 = MLPClassifier(random_state=0)\n",
    "\n",
    "# 시간은 더 오래 걸릴 수 있으나 메모리를 절약할 수 있는 방법\n",
    "points_tr = []\n",
    "points_te = []\n",
    "samp = batch(X_train, y_train, 10)\n",
    "\n",
    "for idx, (chunk_X, chunk_y) in enumerate(samp):\n",
    "    print(idx)\n",
    "    # 부분적으로 학습, 처음에는 정확도가 낮지만 점차 향상됨\n",
    "    clf2.partial_fit(chunk_X, chunk_y, classes=[0, 1, 2])\n",
    "\n",
    "    pred = clf2.predict(X_train)\n",
    "    point = accuracy_score(y_train, pred)\n",
    "    points_tr.append(point)\n",
    "    print(\"학습용 :\", point)\n",
    "\n",
    "    pred = clf2.predict(X_test)\n",
    "    point = accuracy_score(y_test, pred)\n",
    "    points_te.append(point)\n",
    "    print(\"검증용 :\", point)"
   ]
  },
  {
   "cell_type": "code",
   "execution_count": 15,
   "metadata": {},
   "outputs": [
    {
     "data": {
      "text/plain": [
       "<matplotlib.legend.Legend at 0x1f0566a8ec0>"
      ]
     },
     "execution_count": 15,
     "metadata": {},
     "output_type": "execute_result"
    },
    {
     "data": {
      "image/png": "[encoded data removed]",
      "text/plain": [
       "<Figure size 640x480 with 1 Axes>"
      ]
     },
     "metadata": {},
     "output_type": "display_data"
    }
   ],
   "source": [
    "import matplotlib.pyplot as plt\n",
    "\n",
    "plt.rcParams[\"font.size\"] = 15\n",
    "plt.plot(range(1, 13), points_tr, label=\"Train\")\n",
    "plt.plot(range(1, 13), points_te, label=\"Test\")\n",
    "plt.ylabel(\"Accuracy\")\n",
    "plt.xlabel(\"Samples\")\n",
    "plt.legend()"
   ]
  }
 ],
 "metadata": {
  "kernelspec": {
   "display_name": "Python 3",
   "language": "python",
   "name": "python3"
  },
  "language_info": {
   "codemirror_mode": {
    "name": "ipython",
    "version": 3
   },
   "file_extension": ".py",
   "mimetype": "text/x-python",
   "name": "python",
   "nbconvert_exporter": "python",
   "pygments_lexer": "ipython3",
   "version": "3.12.2"
  }
 },
 "nbformat": 4,
 "nbformat_minor": 2
}
