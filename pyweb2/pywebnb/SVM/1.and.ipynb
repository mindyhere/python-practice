{
 "cells": [
  {
   "cell_type": "code",
   "execution_count": null,
   "metadata": {},
   "outputs": [],
   "source": [
    "# 1. SVM(Support Vector Machines)\n",
    "# 두 카테고리 중 어느 하나에 속한 데이터의 집합이 주어졌을 때 새로운 데이터가 어느 카테고리에 속할지 판단하는 기준으로 가장 큰 폭을 가진 경계를 찾는 알고리즘"
   ]
  },
  {
   "cell_type": "code",
   "execution_count": 1,
   "metadata": {},
   "outputs": [
    {
     "data": {
      "text/plain": [
       "[<matplotlib.lines.Line2D at 0x29d52f54980>,\n",
       " <matplotlib.lines.Line2D at 0x29d52f54b60>]"
      ]
     },
     "execution_count": 1,
     "metadata": {},
     "output_type": "execute_result"
    },
    {
     "data": {
      "image/png": "[encoded data removed]",
      "text/plain": [
       "<Figure size 640x480 with 1 Axes>"
      ]
     },
     "metadata": {},
     "output_type": "display_data"
    }
   ],
   "source": [
    "import numpy as np\n",
    "import mglearn\n",
    "\n",
    "# and 학습용 데이터와 답   0       0       0       1\n",
    "learn_data = np.array([(0, 0), (0, 1), (1, 0), (1, 1)])\n",
    "learn_label = np.array([0, 0, 0, 1])  # 답\n",
    "mglearn.discrete_scatter(learn_data[:, 0], learn_data[:, 1], learn_label)"
   ]
  },
  {
   "cell_type": "code",
   "execution_count": 3,
   "metadata": {},
   "outputs": [
    {
     "name": "stdout",
     "output_type": "stream",
     "text": [
      "[[0 0]\n",
      " [1 0]\n",
      " [0 1]\n",
      " [1 1]] 의 예측결과 : [0 0 0 1]\n",
      "정답률 : 1.0\n"
     ]
    },
    {
     "name": "stderr",
     "output_type": "stream",
     "text": [
      "c:\\python312\\Lib\\site-packages\\sklearn\\svm\\_classes.py:31: FutureWarning: The default value of `dual` will change from `True` to `'auto'` in 1.5. Set the value of `dual` explicitly to suppress the warning.\n",
      "  warnings.warn(\n"
     ]
    }
   ],
   "source": [
    "from sklearn.svm import LinearSVC\n",
    "from sklearn.metrics import accuracy_score\n",
    "\n",
    "svm = LinearSVC()\n",
    "#     선형모형  Support Vector Classifier(서포트 벡터 분류기)\n",
    "svm.fit(learn_data, learn_label)\n",
    "\n",
    "X_test = np.array([[0, 0], [1, 0], [0, 1], [1, 1]])\n",
    "# 모형의 예측값\n",
    "#\n",
    "pred = svm.predict(X_test)\n",
    "\n",
    "# 모형 형가\n",
    "print(X_test, \"의 예측결과 :\", pred)\n",
    "print(\"정답률 :\", accuracy_score([0, 0, 0, 1], pred))"
   ]
  },
  {
   "cell_type": "code",
   "execution_count": null,
   "metadata": {},
   "outputs": [],
   "source": []
  }
 ],
 "metadata": {
  "kernelspec": {
   "display_name": "Python 3",
   "language": "python",
   "name": "python3"
  },
  "language_info": {
   "codemirror_mode": {
    "name": "ipython",
    "version": 3
   },
   "file_extension": ".py",
   "mimetype": "text/x-python",
   "name": "python",
   "nbconvert_exporter": "python",
   "pygments_lexer": "ipython3",
   "version": "3.12.2"
  }
 },
 "nbformat": 4,
 "nbformat_minor": 2
}
