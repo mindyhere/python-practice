{
 "cells": [
  {
   "cell_type": "code",
   "execution_count": 1,
   "metadata": {},
   "outputs": [
    {
     "name": "stdout",
     "output_type": "stream",
     "text": [
      "[[5.1 3.5 1.4 0.2]\n",
      " [4.9 3.  1.4 0.2]\n",
      " [4.7 3.2 1.3 0.2]\n",
      " [4.6 3.1 1.5 0.2]\n",
      " [5.  3.6 1.4 0.2]]\n",
      "[0 0 0 0 0]\n"
     ]
    }
   ],
   "source": [
    "from sklearn.datasets import load_iris\n",
    "\n",
    "X, y = load_iris(return_X_y=True)\n",
    "print(X[:5])\n",
    "print(y[:5])"
   ]
  },
  {
   "cell_type": "code",
   "execution_count": 3,
   "metadata": {},
   "outputs": [
    {
     "name": "stdout",
     "output_type": "stream",
     "text": [
      "120\n"
     ]
    }
   ],
   "source": [
    "from sklearn.model_selection import train_test_split\n",
    "\n",
    "X_train, X_test, y_train, y_test = train_test_split(\n",
    "    X, y, random_state=10, test_size=0.2, stratify=y, shuffle=True\n",
    ")\n",
    "print(len(X_train))"
   ]
  },
  {
   "cell_type": "code",
   "execution_count": 5,
   "metadata": {},
   "outputs": [],
   "source": [
    "from torch import nn\n",
    "import torch.nn.functional as F\n",
    "\n",
    "\n",
    "# 신경망 모형\n",
    "class Model(nn.Module):\n",
    "    def __init__(self, input_dim):\n",
    "        super(Model, self).__init__()\n",
    "\n",
    "        # input layer, Linear 선형함수(1차함수)\n",
    "        # input nodes, output nodes 50\n",
    "        self.layer1 = nn.Linear(input_dim, 50)\n",
    "        self.layer2 = nn.Linear(50, 20)\n",
    "        self.layer3 = nn.Linear(20, 3)\n",
    "\n",
    "    def forward(self, x):\n",
    "        x = F.relu(self.layer1(x))\n",
    "        x = F.relu(self.layer2(x))\n",
    "\n",
    "        # 출력층의 활성화함수 - 소프트맥스\n",
    "        # dim=0 첫번째 차원(row), row 단위로 softmax 적용\n",
    "        x = F.softmax(self.layer3(x), dim=0)\n",
    "        return x"
   ]
  },
  {
   "cell_type": "code",
   "execution_count": 6,
   "metadata": {},
   "outputs": [],
   "source": [
    "import torch\n",
    "\n",
    "model = Model(X_train.shape[1])  # 초기화함수의 input_dim으로 변수개수가 전달됨\n",
    "optimizer = torch.optim.Adam(model.parameters(), lr=0.01)  # 최적화함수 정의\n",
    "loss_fn = nn.CrossEntropyLoss()  # 손실함수 정의\n",
    "epochs = 100"
   ]
  },
  {
   "cell_type": "code",
   "execution_count": 7,
   "metadata": {},
   "outputs": [
    {
     "name": "stdout",
     "output_type": "stream",
     "text": [
      "Epoch 1\n",
      "loss:  1.0981792211532593\n",
      "Epoch 2\n",
      "loss:  1.096538782119751\n",
      "Epoch 3\n",
      "loss:  1.094946026802063\n",
      "Epoch 4\n",
      "loss:  1.0935866832733154\n",
      "Epoch 5\n",
      "loss:  1.0921117067337036\n",
      "Epoch 6\n",
      "loss:  1.0907256603240967\n",
      "Epoch 7\n",
      "loss:  1.0897377729415894\n",
      "Epoch 8\n",
      "loss:  1.0889866352081299\n",
      "Epoch 9\n",
      "loss:  1.0883723497390747\n",
      "Epoch 10\n",
      "loss:  1.0878562927246094\n",
      "Epoch 11\n",
      "loss:  1.0874507427215576\n",
      "Epoch 12\n",
      "loss:  1.0871467590332031\n",
      "Epoch 13\n",
      "loss:  1.086926817893982\n",
      "Epoch 14\n",
      "loss:  1.0867507457733154\n",
      "Epoch 15\n",
      "loss:  1.0865988731384277\n",
      "Epoch 16\n",
      "loss:  1.086423635482788\n",
      "Epoch 17\n",
      "loss:  1.0862585306167603\n",
      "Epoch 18\n",
      "loss:  1.0861093997955322\n",
      "Epoch 19\n",
      "loss:  1.0859408378601074\n",
      "Epoch 20\n",
      "loss:  1.0857207775115967\n",
      "Epoch 21\n",
      "loss:  1.0854454040527344\n",
      "Epoch 22\n",
      "loss:  1.0851547718048096\n",
      "Epoch 23\n",
      "loss:  1.084939956665039\n",
      "Epoch 24\n",
      "loss:  1.0847464799880981\n",
      "Epoch 25\n",
      "loss:  1.0845249891281128\n",
      "Epoch 26\n",
      "loss:  1.0843054056167603\n",
      "Epoch 27\n",
      "loss:  1.08408522605896\n",
      "Epoch 28\n",
      "loss:  1.0838702917099\n",
      "Epoch 29\n",
      "loss:  1.0836611986160278\n",
      "Epoch 30\n",
      "loss:  1.0834619998931885\n",
      "Epoch 31\n",
      "loss:  1.0832785367965698\n",
      "Epoch 32\n",
      "loss:  1.0831129550933838\n",
      "Epoch 33\n",
      "loss:  1.0829713344573975\n",
      "Epoch 34\n",
      "loss:  1.0828518867492676\n",
      "Epoch 35\n",
      "loss:  1.0827542543411255\n",
      "Epoch 36\n",
      "loss:  1.0826759338378906\n",
      "Epoch 37\n",
      "loss:  1.0826135873794556\n",
      "Epoch 38\n",
      "loss:  1.0825653076171875\n",
      "Epoch 39\n",
      "loss:  1.0825307369232178\n",
      "Epoch 40\n",
      "loss:  1.0825062990188599\n",
      "Epoch 41\n",
      "loss:  1.082488775253296\n",
      "Epoch 42\n",
      "loss:  1.0824735164642334\n",
      "Epoch 43\n",
      "loss:  1.0824583768844604\n",
      "Epoch 44\n",
      "loss:  1.0824429988861084\n",
      "Epoch 45\n",
      "loss:  1.0824273824691772\n",
      "Epoch 46\n",
      "loss:  1.0824099779129028\n",
      "Epoch 47\n",
      "loss:  1.0823932886123657\n",
      "Epoch 48\n",
      "loss:  1.082377314567566\n",
      "Epoch 49\n",
      "loss:  1.082362413406372\n",
      "Epoch 50\n",
      "loss:  1.0823478698730469\n",
      "Epoch 51\n",
      "loss:  1.082334280014038\n",
      "Epoch 52\n",
      "loss:  1.0823222398757935\n",
      "Epoch 53\n",
      "loss:  1.0823129415512085\n",
      "Epoch 54\n",
      "loss:  1.082305908203125\n",
      "Epoch 55\n",
      "loss:  1.0822997093200684\n",
      "Epoch 56\n",
      "loss:  1.0822937488555908\n",
      "Epoch 57\n",
      "loss:  1.082288384437561\n",
      "Epoch 58\n",
      "loss:  1.0822834968566895\n",
      "Epoch 59\n",
      "loss:  1.082279086112976\n",
      "Epoch 60\n",
      "loss:  1.0822750329971313\n",
      "Epoch 61\n",
      "loss:  1.0822714567184448\n",
      "Epoch 62\n",
      "loss:  1.0822678804397583\n",
      "Epoch 63\n",
      "loss:  1.082262635231018\n",
      "Epoch 64\n",
      "loss:  1.08225679397583\n",
      "Epoch 65\n",
      "loss:  1.0822502374649048\n",
      "Epoch 66\n",
      "loss:  1.0822443962097168\n",
      "Epoch 67\n",
      "loss:  1.0822407007217407\n",
      "Epoch 68\n",
      "loss:  1.082237958908081\n",
      "Epoch 69\n",
      "loss:  1.0822360515594482\n",
      "Epoch 70\n",
      "loss:  1.0822339057922363\n",
      "Epoch 71\n",
      "loss:  1.0822309255599976\n",
      "Epoch 72\n",
      "loss:  1.0822278261184692\n",
      "Epoch 73\n",
      "loss:  1.0822243690490723\n",
      "Epoch 74\n",
      "loss:  1.082221269607544\n",
      "Epoch 75\n",
      "loss:  1.0822179317474365\n",
      "Epoch 76\n",
      "loss:  1.0822151899337769\n",
      "Epoch 77\n",
      "loss:  1.082213044166565\n",
      "Epoch 78\n",
      "loss:  1.0822110176086426\n",
      "Epoch 79\n",
      "loss:  1.0822088718414307\n",
      "Epoch 80\n",
      "loss:  1.08220636844635\n",
      "Epoch 81\n",
      "loss:  1.0822035074234009\n",
      "Epoch 82\n",
      "loss:  1.0822011232376099\n",
      "Epoch 83\n",
      "loss:  1.082198977470398\n",
      "Epoch 84\n",
      "loss:  1.0821974277496338\n",
      "Epoch 85\n",
      "loss:  1.08219575881958\n",
      "Epoch 86\n",
      "loss:  1.082194447517395\n",
      "Epoch 87\n",
      "loss:  1.0821928977966309\n",
      "Epoch 88\n",
      "loss:  1.0821913480758667\n",
      "Epoch 89\n",
      "loss:  1.082189917564392\n",
      "Epoch 90\n",
      "loss:  1.0821884870529175\n",
      "Epoch 91\n",
      "loss:  1.0821870565414429\n",
      "Epoch 92\n",
      "loss:  1.0821856260299683\n",
      "Epoch 93\n",
      "loss:  1.0821843147277832\n",
      "Epoch 94\n",
      "loss:  1.0821830034255981\n",
      "Epoch 95\n",
      "loss:  1.0821815729141235\n",
      "Epoch 96\n",
      "loss:  1.0821800231933594\n",
      "Epoch 97\n",
      "loss:  1.0821772813796997\n",
      "Epoch 98\n",
      "loss:  1.0821750164031982\n",
      "Epoch 99\n",
      "loss:  1.082174301147461\n",
      "Epoch 100\n",
      "loss:  1.0821737051010132\n"
     ]
    }
   ],
   "source": [
    "# 넘파이배열로부터 텐서를 만들고\n",
    "X_train = torch.from_numpy(X_train).float()\n",
    "y_train = torch.from_numpy(y_train).long()\n",
    "\n",
    "for epoch in range(1, epochs + 1):\n",
    "    print(\"Epoch\", epoch)\n",
    "    y_pred = model(X_train)  # 예측값\n",
    "\n",
    "    # 손실함수에 예측값과 실제값을 입력\n",
    "    loss = loss_fn(y_pred, y_train)\n",
    "    print(\"loss: \", loss.item())\n",
    "\n",
    "    # 경사 초기화\n",
    "    optimizer.zero_grad()\n",
    "    loss.backward()  # 역전파\n",
    "    optimizer.step()  # 가중치 업데이트"
   ]
  },
  {
   "cell_type": "code",
   "execution_count": 8,
   "metadata": {},
   "outputs": [
    {
     "data": {
      "text/plain": [
       "tensor([[7.2103e-08, 7.6628e-03, 5.8448e-05],\n",
       "        [1.6766e-02, 1.8336e-06, 1.3533e-11],\n",
       "        [2.4254e-08, 1.8643e-03, 1.6470e-04],\n",
       "        [4.7400e-09, 5.3889e-04, 6.8121e-04],\n",
       "        [6.4397e-06, 3.3602e-01, 6.8676e-07]], grad_fn=<SliceBackward0>)"
      ]
     },
     "execution_count": 8,
     "metadata": {},
     "output_type": "execute_result"
    }
   ],
   "source": [
    "X_test = torch.from_numpy(X_test).float()\n",
    "pred = model(X_test)\n",
    "pred[:5]"
   ]
  },
  {
   "cell_type": "code",
   "execution_count": 9,
   "metadata": {},
   "outputs": [
    {
     "data": {
      "text/plain": [
       "array([1, 0, 1, 2, 1, 2, 0, 2, 2, 0, 0, 1, 2, 2, 1, 0, 0, 1, 2, 0, 2, 2,\n",
       "       2, 0, 0, 1, 1, 0, 1, 1], dtype=int64)"
      ]
     },
     "execution_count": 9,
     "metadata": {},
     "output_type": "execute_result"
    }
   ],
   "source": [
    "import numpy as np\n",
    "\n",
    "np.argmax(pred.data.numpy(), axis=1)"
   ]
  },
  {
   "cell_type": "code",
   "execution_count": 10,
   "metadata": {},
   "outputs": [
    {
     "data": {
      "text/plain": [
       "1.0"
      ]
     },
     "execution_count": 10,
     "metadata": {},
     "output_type": "execute_result"
    }
   ],
   "source": [
    "from sklearn.metrics import accuracy_score\n",
    "\n",
    "# 모형의 정확도 측정\n",
    "accuracy_score(y_test, np.argmax(pred.data.numpy(), axis=1))"
   ]
  },
  {
   "cell_type": "code",
   "execution_count": 11,
   "metadata": {},
   "outputs": [],
   "source": [
    "torch.save(model, \"c:/data/iris/iris-torch.h5\")"
   ]
  },
  {
   "cell_type": "code",
   "execution_count": 12,
   "metadata": {},
   "outputs": [
    {
     "data": {
      "text/plain": [
       "2"
      ]
     },
     "execution_count": 12,
     "metadata": {},
     "output_type": "execute_result"
    }
   ],
   "source": [
    "model2 = torch.load(\"c:/data/iris/iris-torch.h5\")\n",
    "\n",
    "np.argmax(model2(X_test[0]).data.numpy())"
   ]
  },
  {
   "cell_type": "code",
   "execution_count": 14,
   "metadata": {},
   "outputs": [
    {
     "name": "stdout",
     "output_type": "stream",
     "text": [
      "Collecting torchinfoNote: you may need to restart the kernel to use updated packages.\n",
      "\n",
      "  Downloading torchinfo-1.8.0-py3-none-any.whl.metadata (21 kB)\n",
      "Downloading torchinfo-1.8.0-py3-none-any.whl (23 kB)\n",
      "Installing collected packages: torchinfo\n",
      "Successfully installed torchinfo-1.8.0\n"
     ]
    },
    {
     "data": {
      "text/plain": [
       "==========================================================================================\n",
       "Layer (type:depth-idx)                   Output Shape              Param #\n",
       "==========================================================================================\n",
       "Model                                    [32, 3]                   --\n",
       "├─Linear: 1-1                            [32, 50]                  250\n",
       "├─Linear: 1-2                            [32, 20]                  1,020\n",
       "├─Linear: 1-3                            [32, 3]                   63\n",
       "==========================================================================================\n",
       "Total params: 1,333\n",
       "Trainable params: 1,333\n",
       "Non-trainable params: 0\n",
       "Total mult-adds (Units.MEGABYTES): 0.04\n",
       "==========================================================================================\n",
       "Input size (MB): 0.00\n",
       "Forward/backward pass size (MB): 0.02\n",
       "Params size (MB): 0.01\n",
       "Estimated Total Size (MB): 0.02\n",
       "=========================================================================================="
      ]
     },
     "execution_count": 14,
     "metadata": {},
     "output_type": "execute_result"
    }
   ],
   "source": [
    "%pip install torchinfo\n",
    "from torchinfo import summary\n",
    "\n",
    "summary(model)\n",
    "summary(model, input_size=(32, 4))"
   ]
  }
 ],
 "metadata": {
  "kernelspec": {
   "display_name": "Python 3",
   "language": "python",
   "name": "python3"
  },
  "language_info": {
   "codemirror_mode": {
    "name": "ipython",
    "version": 3
   },
   "file_extension": ".py",
   "mimetype": "text/x-python",
   "name": "python",
   "nbconvert_exporter": "python",
   "pygments_lexer": "ipython3",
   "version": "3.12.2"
  }
 },
 "nbformat": 4,
 "nbformat_minor": 2
}
